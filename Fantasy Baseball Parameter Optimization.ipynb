{
 "cells": [
  {
   "cell_type": "markdown",
   "metadata": {},
   "source": [
    "# Digging Beneath the Surface"
   ]
  },
  {
   "cell_type": "markdown",
   "metadata": {},
   "source": [
    "*Benjamin Johnson*\n",
    "\n",
    "\n",
    "*March 2, 2018*"
   ]
  },
  {
   "cell_type": "markdown",
   "metadata": {},
   "source": [
    "[Home](https://johnsbr1.github.io/)\n",
    "\n",
    "[About Me](https://johnsbr1.github.io/author.html)\n",
    "\n",
    "[Previous Entries](https://johnsbr1.github.io/posts.html)"
   ]
  },
  {
   "cell_type": "markdown",
   "metadata": {},
   "source": [
    "## Parameter Optimization for Bill Bergen Fantasy Baseball"
   ]
  },
  {
   "cell_type": "markdown",
   "metadata": {},
   "source": [
    "More baseball! In 2017, three fellow baseball nerds and myself formed the Bill Bergen Memorial Fantasy Baseball League. Being bored of the traditional formats, our goal was to create a league where the goal was for the WORST possible players to accumulate the HIGHEST points. By awarding points for batter strikeouts and subtracting for positive outcomes (hits, RBIs, runs), league managers would be incentivized to select the poorest performing postion players. Likewise, a similar scoring system was established for pitchers, awarding points for giving up hits & runs, while scoring negative points for getting outs. If you're curious about the league's namesake, I highly recommend the article [here](https://blogs.fangraphs.com/the-worst-hitter-in-baseball-history/).\n",
    "\n",
    "&nbsp;\n",
    "\n",
    "The idea was simple in concept, but this led to some headscratching when devising the rules. How many points should be awarded for each event?\n",
    "\n",
    "&nbsp;\n",
    "\n",
    "While the inaugural 2017 season was established with cherry-picked parameters, the purpose of this analysis was to optimize the parameters by creating the most negative relationship between the historical performance and fantasy rankings for traditional leagues.\n",
    "\n",
    "&nbsp;\n",
    "\n",
    "EDIT: The settings were successfully used in the 2018 season and maintained through 2021.\n",
    "\n",
    "&nbsp;\n",
    "\n",
    "While each section is documented with a header, I apologize for the lack of additional context. My goal will be to revisit this article and provide updated notes."
   ]
  },
  {
   "cell_type": "markdown",
   "metadata": {},
   "source": [
    "### Import libraries and define function"
   ]
  },
  {
   "cell_type": "code",
   "execution_count": 268,
   "metadata": {
    "collapsed": true
   },
   "outputs": [],
   "source": [
    "import pandas as pd\n",
    "import numpy as np\n",
    "import matplotlib\n",
    "import matplotlib.pyplot as plt\n",
    "from scipy import optimize\n",
    "\n",
    "%matplotlib inline\n",
    "matplotlib.style.use('ggplot')\n",
    "\n",
    "def remove_whitespace(x):\n",
    "    try:\n",
    "        x = \"\".join(x.split())\n",
    "    except:\n",
    "        pass\n",
    "    return x"
   ]
  },
  {
   "cell_type": "markdown",
   "metadata": {},
   "source": [
    "### Read in fantasy projections"
   ]
  },
  {
   "cell_type": "code",
   "execution_count": 323,
   "metadata": {},
   "outputs": [
    {
     "data": {
      "text/html": [
       "<div>\n",
       "<style>\n",
       "    .dataframe thead tr:only-child th {\n",
       "        text-align: right;\n",
       "    }\n",
       "\n",
       "    .dataframe thead th {\n",
       "        text-align: left;\n",
       "    }\n",
       "\n",
       "    .dataframe tbody tr th {\n",
       "        vertical-align: top;\n",
       "    }\n",
       "</style>\n",
       "<table border=\"1\" class=\"dataframe\">\n",
       "  <thead>\n",
       "    <tr style=\"text-align: right;\">\n",
       "      <th></th>\n",
       "      <th>Name</th>\n",
       "      <th>Rank</th>\n",
       "    </tr>\n",
       "  </thead>\n",
       "  <tbody>\n",
       "    <tr>\n",
       "      <th>0</th>\n",
       "      <td>MikeTrout</td>\n",
       "      <td>1.0</td>\n",
       "    </tr>\n",
       "    <tr>\n",
       "      <th>1</th>\n",
       "      <td>JoseAltuve</td>\n",
       "      <td>2.0</td>\n",
       "    </tr>\n",
       "    <tr>\n",
       "      <th>2</th>\n",
       "      <td>NolanArenado</td>\n",
       "      <td>3.0</td>\n",
       "    </tr>\n",
       "    <tr>\n",
       "      <th>3</th>\n",
       "      <td>TreaTurner</td>\n",
       "      <td>4.0</td>\n",
       "    </tr>\n",
       "    <tr>\n",
       "      <th>4</th>\n",
       "      <td>PaulGoldschmidt</td>\n",
       "      <td>5.0</td>\n",
       "    </tr>\n",
       "  </tbody>\n",
       "</table>\n",
       "</div>"
      ],
      "text/plain": [
       "              Name  Rank\n",
       "0        MikeTrout   1.0\n",
       "1       JoseAltuve   2.0\n",
       "2     NolanArenado   3.0\n",
       "3       TreaTurner   4.0\n",
       "4  PaulGoldschmidt   5.0"
      ]
     },
     "execution_count": 323,
     "metadata": {},
     "output_type": "execute_result"
    }
   ],
   "source": [
    "rank = pd.read_csv(r'C:\\Users\\johnsbr1\\Documents\\FantasyPros_Fantasy_Baseball_Rankings_ALL.csv',encoding = \"ISO-8859-1\")\n",
    "rank['Name'] = rank['Player'].apply(remove_whitespace)\n",
    "rank = rank[['Name','Rank']]\n",
    "rank.head()"
   ]
  },
  {
   "cell_type": "markdown",
   "metadata": {},
   "source": [
    "### Read in 2017 batting player stats"
   ]
  },
  {
   "cell_type": "code",
   "execution_count": 335,
   "metadata": {},
   "outputs": [
    {
     "data": {
      "text/html": [
       "<div>\n",
       "<style>\n",
       "    .dataframe thead tr:only-child th {\n",
       "        text-align: right;\n",
       "    }\n",
       "\n",
       "    .dataframe thead th {\n",
       "        text-align: left;\n",
       "    }\n",
       "\n",
       "    .dataframe tbody tr th {\n",
       "        vertical-align: top;\n",
       "    }\n",
       "</style>\n",
       "<table border=\"1\" class=\"dataframe\">\n",
       "  <thead>\n",
       "    <tr style=\"text-align: right;\">\n",
       "      <th></th>\n",
       "      <th>Name</th>\n",
       "      <th>PA</th>\n",
       "      <th>BB</th>\n",
       "      <th>SO</th>\n",
       "      <th>1B</th>\n",
       "      <th>2B</th>\n",
       "      <th>3B</th>\n",
       "      <th>HR</th>\n",
       "      <th>SB</th>\n",
       "      <th>R</th>\n",
       "      <th>RBI</th>\n",
       "    </tr>\n",
       "  </thead>\n",
       "  <tbody>\n",
       "    <tr>\n",
       "      <th>0</th>\n",
       "      <td>A.J.Ellis</td>\n",
       "      <td>163</td>\n",
       "      <td>12</td>\n",
       "      <td>29</td>\n",
       "      <td>19</td>\n",
       "      <td>5</td>\n",
       "      <td>0</td>\n",
       "      <td>6</td>\n",
       "      <td>0</td>\n",
       "      <td>17</td>\n",
       "      <td>14</td>\n",
       "    </tr>\n",
       "    <tr>\n",
       "      <th>1</th>\n",
       "      <td>A.J.Pollock</td>\n",
       "      <td>466</td>\n",
       "      <td>35</td>\n",
       "      <td>71</td>\n",
       "      <td>60</td>\n",
       "      <td>33</td>\n",
       "      <td>6</td>\n",
       "      <td>14</td>\n",
       "      <td>20</td>\n",
       "      <td>73</td>\n",
       "      <td>49</td>\n",
       "    </tr>\n",
       "    <tr>\n",
       "      <th>2</th>\n",
       "      <td>AaronAltherr</td>\n",
       "      <td>412</td>\n",
       "      <td>32</td>\n",
       "      <td>104</td>\n",
       "      <td>53</td>\n",
       "      <td>24</td>\n",
       "      <td>5</td>\n",
       "      <td>19</td>\n",
       "      <td>5</td>\n",
       "      <td>58</td>\n",
       "      <td>65</td>\n",
       "    </tr>\n",
       "    <tr>\n",
       "      <th>3</th>\n",
       "      <td>AaronHicks</td>\n",
       "      <td>361</td>\n",
       "      <td>51</td>\n",
       "      <td>67</td>\n",
       "      <td>47</td>\n",
       "      <td>18</td>\n",
       "      <td>0</td>\n",
       "      <td>15</td>\n",
       "      <td>10</td>\n",
       "      <td>54</td>\n",
       "      <td>52</td>\n",
       "    </tr>\n",
       "    <tr>\n",
       "      <th>4</th>\n",
       "      <td>AaronJudge</td>\n",
       "      <td>678</td>\n",
       "      <td>127</td>\n",
       "      <td>208</td>\n",
       "      <td>75</td>\n",
       "      <td>24</td>\n",
       "      <td>3</td>\n",
       "      <td>52</td>\n",
       "      <td>9</td>\n",
       "      <td>128</td>\n",
       "      <td>114</td>\n",
       "    </tr>\n",
       "  </tbody>\n",
       "</table>\n",
       "</div>"
      ],
      "text/plain": [
       "           Name   PA   BB   SO  1B  2B  3B  HR  SB    R  RBI\n",
       "0     A.J.Ellis  163   12   29  19   5   0   6   0   17   14\n",
       "1   A.J.Pollock  466   35   71  60  33   6  14  20   73   49\n",
       "2  AaronAltherr  412   32  104  53  24   5  19   5   58   65\n",
       "3    AaronHicks  361   51   67  47  18   0  15  10   54   52\n",
       "4    AaronJudge  678  127  208  75  24   3  52   9  128  114"
      ]
     },
     "execution_count": 335,
     "metadata": {},
     "output_type": "execute_result"
    }
   ],
   "source": [
    "xl = pd.ExcelFile(r'C:\\Users\\johnsbr1\\Documents\\MLB 2017 Player Stats.xlsx')\n",
    "batting = xl.parse(\"Batting\")\n",
    "#batting['Name'] = batting['Name'].str.strip()\n",
    "batting['Name'] = batting['Name'].apply(remove_whitespace)\n",
    "batting[\"1B\"] = (batting['H'] - batting['HR'] - batting['3B'] - batting['2B'])\n",
    "batting = batting[['Name','PA','BB','SO','1B','2B','3B','HR','SB','R','RBI']]\n",
    "batting = batting[batting['PA'] >= 100]\n",
    "batting.head()"
   ]
  },
  {
   "cell_type": "markdown",
   "metadata": {},
   "source": [
    "### Read in 2017 pitching player stats"
   ]
  },
  {
   "cell_type": "code",
   "execution_count": 336,
   "metadata": {},
   "outputs": [
    {
     "data": {
      "text/html": [
       "<div>\n",
       "<style>\n",
       "    .dataframe thead tr:only-child th {\n",
       "        text-align: right;\n",
       "    }\n",
       "\n",
       "    .dataframe thead th {\n",
       "        text-align: left;\n",
       "    }\n",
       "\n",
       "    .dataframe tbody tr th {\n",
       "        vertical-align: top;\n",
       "    }\n",
       "</style>\n",
       "<table border=\"1\" class=\"dataframe\">\n",
       "  <thead>\n",
       "    <tr style=\"text-align: right;\">\n",
       "      <th></th>\n",
       "      <th>Name</th>\n",
       "      <th>G</th>\n",
       "      <th>W</th>\n",
       "      <th>L</th>\n",
       "      <th>IP</th>\n",
       "      <th>ER</th>\n",
       "      <th>H</th>\n",
       "      <th>BB</th>\n",
       "      <th>HR</th>\n",
       "      <th>SO</th>\n",
       "      <th>HBP</th>\n",
       "      <th>BK</th>\n",
       "      <th>WP</th>\n",
       "    </tr>\n",
       "  </thead>\n",
       "  <tbody>\n",
       "    <tr>\n",
       "      <th>1</th>\n",
       "      <td>A.J.Griffin</td>\n",
       "      <td>18</td>\n",
       "      <td>6</td>\n",
       "      <td>6</td>\n",
       "      <td>77.1</td>\n",
       "      <td>51</td>\n",
       "      <td>76</td>\n",
       "      <td>28</td>\n",
       "      <td>20</td>\n",
       "      <td>61</td>\n",
       "      <td>6</td>\n",
       "      <td>0</td>\n",
       "      <td>2</td>\n",
       "    </tr>\n",
       "    <tr>\n",
       "      <th>7</th>\n",
       "      <td>AaronNola</td>\n",
       "      <td>27</td>\n",
       "      <td>12</td>\n",
       "      <td>11</td>\n",
       "      <td>168.0</td>\n",
       "      <td>66</td>\n",
       "      <td>154</td>\n",
       "      <td>49</td>\n",
       "      <td>18</td>\n",
       "      <td>184</td>\n",
       "      <td>2</td>\n",
       "      <td>0</td>\n",
       "      <td>1</td>\n",
       "    </tr>\n",
       "    <tr>\n",
       "      <th>11</th>\n",
       "      <td>AdalbertoMejia</td>\n",
       "      <td>21</td>\n",
       "      <td>4</td>\n",
       "      <td>7</td>\n",
       "      <td>98.0</td>\n",
       "      <td>49</td>\n",
       "      <td>110</td>\n",
       "      <td>44</td>\n",
       "      <td>13</td>\n",
       "      <td>85</td>\n",
       "      <td>5</td>\n",
       "      <td>2</td>\n",
       "      <td>2</td>\n",
       "    </tr>\n",
       "    <tr>\n",
       "      <th>12</th>\n",
       "      <td>AdamConley</td>\n",
       "      <td>22</td>\n",
       "      <td>8</td>\n",
       "      <td>8</td>\n",
       "      <td>102.2</td>\n",
       "      <td>70</td>\n",
       "      <td>114</td>\n",
       "      <td>42</td>\n",
       "      <td>19</td>\n",
       "      <td>72</td>\n",
       "      <td>8</td>\n",
       "      <td>0</td>\n",
       "      <td>5</td>\n",
       "    </tr>\n",
       "    <tr>\n",
       "      <th>17</th>\n",
       "      <td>AdamWainwright</td>\n",
       "      <td>24</td>\n",
       "      <td>12</td>\n",
       "      <td>5</td>\n",
       "      <td>123.1</td>\n",
       "      <td>70</td>\n",
       "      <td>140</td>\n",
       "      <td>45</td>\n",
       "      <td>14</td>\n",
       "      <td>96</td>\n",
       "      <td>5</td>\n",
       "      <td>0</td>\n",
       "      <td>2</td>\n",
       "    </tr>\n",
       "  </tbody>\n",
       "</table>\n",
       "</div>"
      ],
      "text/plain": [
       "              Name   G   W   L     IP  ER    H  BB  HR   SO  HBP  BK  WP\n",
       "1      A.J.Griffin  18   6   6   77.1  51   76  28  20   61    6   0   2\n",
       "7        AaronNola  27  12  11  168.0  66  154  49  18  184    2   0   1\n",
       "11  AdalbertoMejia  21   4   7   98.0  49  110  44  13   85    5   2   2\n",
       "12      AdamConley  22   8   8  102.2  70  114  42  19   72    8   0   5\n",
       "17  AdamWainwright  24  12   5  123.1  70  140  45  14   96    5   0   2"
      ]
     },
     "execution_count": 336,
     "metadata": {},
     "output_type": "execute_result"
    }
   ],
   "source": [
    "pitching = xl.parse(\"Pitching\")\n",
    "pitching['Name'] = pitching['Name'].apply(remove_whitespace)\n",
    "pitching = pitching[['Name','G','W','L','IP','ER','H','BB','HR','SO','HBP','BK','WP']]\n",
    "pitching = pitching[pitching['IP'] > 75]\n",
    "pitching.head()\n"
   ]
  },
  {
   "cell_type": "markdown",
   "metadata": {},
   "source": [
    "### Merge batting stats with fantasy rankings"
   ]
  },
  {
   "cell_type": "code",
   "execution_count": 337,
   "metadata": {},
   "outputs": [
    {
     "data": {
      "text/html": [
       "<div>\n",
       "<style>\n",
       "    .dataframe thead tr:only-child th {\n",
       "        text-align: right;\n",
       "    }\n",
       "\n",
       "    .dataframe thead th {\n",
       "        text-align: left;\n",
       "    }\n",
       "\n",
       "    .dataframe tbody tr th {\n",
       "        vertical-align: top;\n",
       "    }\n",
       "</style>\n",
       "<table border=\"1\" class=\"dataframe\">\n",
       "  <thead>\n",
       "    <tr style=\"text-align: right;\">\n",
       "      <th></th>\n",
       "      <th>Name</th>\n",
       "      <th>PA</th>\n",
       "      <th>BB</th>\n",
       "      <th>SO</th>\n",
       "      <th>1B</th>\n",
       "      <th>2B</th>\n",
       "      <th>3B</th>\n",
       "      <th>HR</th>\n",
       "      <th>SB</th>\n",
       "      <th>R</th>\n",
       "      <th>RBI</th>\n",
       "      <th>Rank</th>\n",
       "    </tr>\n",
       "  </thead>\n",
       "  <tbody>\n",
       "    <tr>\n",
       "      <th>0</th>\n",
       "      <td>A.J.Pollock</td>\n",
       "      <td>466</td>\n",
       "      <td>35</td>\n",
       "      <td>71</td>\n",
       "      <td>60</td>\n",
       "      <td>33</td>\n",
       "      <td>6</td>\n",
       "      <td>14</td>\n",
       "      <td>20</td>\n",
       "      <td>73</td>\n",
       "      <td>49</td>\n",
       "      <td>53.0</td>\n",
       "    </tr>\n",
       "    <tr>\n",
       "      <th>1</th>\n",
       "      <td>AaronAltherr</td>\n",
       "      <td>412</td>\n",
       "      <td>32</td>\n",
       "      <td>104</td>\n",
       "      <td>53</td>\n",
       "      <td>24</td>\n",
       "      <td>5</td>\n",
       "      <td>19</td>\n",
       "      <td>5</td>\n",
       "      <td>58</td>\n",
       "      <td>65</td>\n",
       "      <td>241.0</td>\n",
       "    </tr>\n",
       "    <tr>\n",
       "      <th>2</th>\n",
       "      <td>AaronHicks</td>\n",
       "      <td>361</td>\n",
       "      <td>51</td>\n",
       "      <td>67</td>\n",
       "      <td>47</td>\n",
       "      <td>18</td>\n",
       "      <td>0</td>\n",
       "      <td>15</td>\n",
       "      <td>10</td>\n",
       "      <td>54</td>\n",
       "      <td>52</td>\n",
       "      <td>252.0</td>\n",
       "    </tr>\n",
       "    <tr>\n",
       "      <th>3</th>\n",
       "      <td>AaronJudge</td>\n",
       "      <td>678</td>\n",
       "      <td>127</td>\n",
       "      <td>208</td>\n",
       "      <td>75</td>\n",
       "      <td>24</td>\n",
       "      <td>3</td>\n",
       "      <td>52</td>\n",
       "      <td>9</td>\n",
       "      <td>128</td>\n",
       "      <td>114</td>\n",
       "      <td>20.0</td>\n",
       "    </tr>\n",
       "    <tr>\n",
       "      <th>4</th>\n",
       "      <td>AbrahamAlmonte</td>\n",
       "      <td>195</td>\n",
       "      <td>20</td>\n",
       "      <td>46</td>\n",
       "      <td>26</td>\n",
       "      <td>8</td>\n",
       "      <td>3</td>\n",
       "      <td>3</td>\n",
       "      <td>2</td>\n",
       "      <td>26</td>\n",
       "      <td>14</td>\n",
       "      <td>664.0</td>\n",
       "    </tr>\n",
       "  </tbody>\n",
       "</table>\n",
       "</div>"
      ],
      "text/plain": [
       "             Name   PA   BB   SO  1B  2B  3B  HR  SB    R  RBI   Rank\n",
       "0     A.J.Pollock  466   35   71  60  33   6  14  20   73   49   53.0\n",
       "1    AaronAltherr  412   32  104  53  24   5  19   5   58   65  241.0\n",
       "2      AaronHicks  361   51   67  47  18   0  15  10   54   52  252.0\n",
       "3      AaronJudge  678  127  208  75  24   3  52   9  128  114   20.0\n",
       "4  AbrahamAlmonte  195   20   46  26   8   3   3   2   26   14  664.0"
      ]
     },
     "execution_count": 337,
     "metadata": {},
     "output_type": "execute_result"
    }
   ],
   "source": [
    "batting_merge = pd.merge(batting, rank, how='inner',on='Name')\n",
    "batting_merge.head()"
   ]
  },
  {
   "cell_type": "markdown",
   "metadata": {},
   "source": [
    "### Define optimization function"
   ]
  },
  {
   "cell_type": "code",
   "execution_count": 338,
   "metadata": {
    "collapsed": true
   },
   "outputs": [],
   "source": [
    "batting_attr =  ['PA','BB','SO', '1B','2B','3B','HR','SB','R','RBI']\n",
    "rank_array = batting_merge['Rank']\n",
    "\n",
    "def bat_con(batting_values):\n",
    "    values = np.zeros(len(rank_array)) \n",
    "    for i, j in enumerate(batting_attr):\n",
    "        values = values + batting_merge[j] * batting_values[i]\n",
    "    pct = len([1 for i in values if i > 0])/len(values)\n",
    "    return pct - 0.7\n",
    "\n",
    "bat_cons = {'type':'ineq', 'fun': bat_con}\n",
    "\n",
    "def bat_funct(batting_values):\n",
    "    values = np.zeros(len(rank_array)) \n",
    "    for i, j in enumerate(batting_attr):\n",
    "        values = values + batting_merge[j] * batting_values[i]\n",
    "    batting_merge['values'] = values\n",
    "    return(-1 * np.corrcoef(batting_merge['values'], batting_merge['Rank'])[1,0])"
   ]
  },
  {
   "cell_type": "markdown",
   "metadata": {},
   "source": [
    "### Evaluate correlation using 2017 parameter set"
   ]
  },
  {
   "cell_type": "code",
   "execution_count": 339,
   "metadata": {},
   "outputs": [
    {
     "name": "stdout",
     "output_type": "stream",
     "text": [
      "The correlation coefficient for the 2017 parameter set is -0.6379982107056971\n",
      "The percentage of players with positive scores is 0.4519230769230769\n"
     ]
    }
   ],
   "source": [
    "# batting_attr =  ['PA','BB','SO', '1B','2B','3B','HR','SB','R','RBI']\n",
    "initial =          [2.5, -3.0, 2.0, -2.5, -5, -6, -10, -10, -6, -7]\n",
    "orig = bat_funct(initial)\n",
    "\n",
    "pct =  len(batting_merge[batting_merge['values'] > 0])/len(batting_merge['values'])\n",
    "\n",
    "print(\"The correlation coefficient for the 2017 parameter set is \" + str(orig))\n",
    "print(\"The percentage of players with positive scores is \" + str(pct))"
   ]
  },
  {
   "cell_type": "markdown",
   "metadata": {},
   "source": [
    "### Run optimization to find new parameter set"
   ]
  },
  {
   "cell_type": "code",
   "execution_count": 304,
   "metadata": {},
   "outputs": [
    {
     "name": "stdout",
     "output_type": "stream",
     "text": [
      "The correlation coefficient for the optimized parameter set is -0.5742293816349405\n",
      "The parameter set is as follows: [  2.502502    -2.73139892   2.64238572  -2.55086712  -5.04848268\n",
      "  -5.77686603  -9.92309256 -10.01061392  -5.71442201  -6.72205971]\n"
     ]
    }
   ],
   "source": [
    "opt_model= optimize.minimize(bat_funct, x0=initial, method='COBYLA', constraints=bat_cons) \n",
    "opt_values = opt_model.x\n",
    "opt = bat_funct(opt_values)\n",
    "print(\"The correlation coefficient for the optimized parameter set is \" + str(opt))\n",
    "print(\"The parameter set is as follows: \" + str(opt_values))"
   ]
  },
  {
   "cell_type": "markdown",
   "metadata": {},
   "source": [
    "### Manually tweak settings (rounding + common sense, e.g. HR > 3B)"
   ]
  },
  {
   "cell_type": "code",
   "execution_count": 306,
   "metadata": {},
   "outputs": [
    {
     "name": "stdout",
     "output_type": "stream",
     "text": [
      "The correlation coefficient for the optimized parameter set is -0.5580190666336041\n",
      "The percentage of players with positive scores is 0.6826923076923077\n"
     ]
    }
   ],
   "source": [
    "#batting_attr =  ['PA','BB','SO', '1B','2B','3B','HR','SB','R','RBI']\n",
    "opt_values2 =    [2.5, -2.5, 2.5,  -2.5, -5,  -6,  -10, -10, -5.5, -6.5]\n",
    "opt2 = bat_funct(opt_values2)\n",
    "\n",
    "pct =  len(batting_merge[batting_merge['values'] > 0])/len(batting_merge['values'])\n",
    "\n",
    "print(\"The correlation coefficient for the optimized parameter set is \" + str(opt2))\n",
    "print(\"The percentage of players with positive scores is \" + str(pct))"
   ]
  },
  {
   "cell_type": "markdown",
   "metadata": {},
   "source": [
    "## Create scatterplot"
   ]
  },
  {
   "cell_type": "code",
   "execution_count": 307,
   "metadata": {},
   "outputs": [
    {
     "data": {
      "image/png": "[encoded data removed]",
      "text/plain": [
       "<matplotlib.figure.Figure at 0x1be7db00>"
      ]
     },
     "metadata": {},
     "output_type": "display_data"
    }
   ],
   "source": [
    "plt.scatter(batting_merge['values'], batting_merge['Rank'])\n",
    "\n",
    "plt.ylim(0)\n",
    "plt.title('Bill Bergen - Batting')\n",
    "plt.xlabel('Fantasy Points 2017')\n",
    "plt.ylabel('Rank 2018')\n",
    "plt.show()\n"
   ]
  },
  {
   "cell_type": "markdown",
   "metadata": {},
   "source": [
    "### Repeat for pitchers"
   ]
  },
  {
   "cell_type": "code",
   "execution_count": 340,
   "metadata": {},
   "outputs": [
    {
     "data": {
      "text/html": [
       "<div>\n",
       "<style>\n",
       "    .dataframe thead tr:only-child th {\n",
       "        text-align: right;\n",
       "    }\n",
       "\n",
       "    .dataframe thead th {\n",
       "        text-align: left;\n",
       "    }\n",
       "\n",
       "    .dataframe tbody tr th {\n",
       "        vertical-align: top;\n",
       "    }\n",
       "</style>\n",
       "<table border=\"1\" class=\"dataframe\">\n",
       "  <thead>\n",
       "    <tr style=\"text-align: right;\">\n",
       "      <th></th>\n",
       "      <th>Name</th>\n",
       "      <th>G</th>\n",
       "      <th>W</th>\n",
       "      <th>L</th>\n",
       "      <th>IP</th>\n",
       "      <th>ER</th>\n",
       "      <th>H</th>\n",
       "      <th>BB</th>\n",
       "      <th>HR</th>\n",
       "      <th>SO</th>\n",
       "      <th>HBP</th>\n",
       "      <th>BK</th>\n",
       "      <th>WP</th>\n",
       "      <th>Rank</th>\n",
       "    </tr>\n",
       "  </thead>\n",
       "  <tbody>\n",
       "    <tr>\n",
       "      <th>0</th>\n",
       "      <td>AaronNola</td>\n",
       "      <td>27</td>\n",
       "      <td>12</td>\n",
       "      <td>11</td>\n",
       "      <td>168.0</td>\n",
       "      <td>66</td>\n",
       "      <td>154</td>\n",
       "      <td>49</td>\n",
       "      <td>18</td>\n",
       "      <td>184</td>\n",
       "      <td>2</td>\n",
       "      <td>0</td>\n",
       "      <td>1</td>\n",
       "      <td>70.0</td>\n",
       "    </tr>\n",
       "    <tr>\n",
       "      <th>1</th>\n",
       "      <td>AdalbertoMejia</td>\n",
       "      <td>21</td>\n",
       "      <td>4</td>\n",
       "      <td>7</td>\n",
       "      <td>98.0</td>\n",
       "      <td>49</td>\n",
       "      <td>110</td>\n",
       "      <td>44</td>\n",
       "      <td>13</td>\n",
       "      <td>85</td>\n",
       "      <td>5</td>\n",
       "      <td>2</td>\n",
       "      <td>2</td>\n",
       "      <td>636.0</td>\n",
       "    </tr>\n",
       "    <tr>\n",
       "      <th>2</th>\n",
       "      <td>AdamConley</td>\n",
       "      <td>22</td>\n",
       "      <td>8</td>\n",
       "      <td>8</td>\n",
       "      <td>102.2</td>\n",
       "      <td>70</td>\n",
       "      <td>114</td>\n",
       "      <td>42</td>\n",
       "      <td>19</td>\n",
       "      <td>72</td>\n",
       "      <td>8</td>\n",
       "      <td>0</td>\n",
       "      <td>5</td>\n",
       "      <td>590.0</td>\n",
       "    </tr>\n",
       "    <tr>\n",
       "      <th>3</th>\n",
       "      <td>AdamWainwright</td>\n",
       "      <td>24</td>\n",
       "      <td>12</td>\n",
       "      <td>5</td>\n",
       "      <td>123.1</td>\n",
       "      <td>70</td>\n",
       "      <td>140</td>\n",
       "      <td>45</td>\n",
       "      <td>14</td>\n",
       "      <td>96</td>\n",
       "      <td>5</td>\n",
       "      <td>0</td>\n",
       "      <td>2</td>\n",
       "      <td>491.0</td>\n",
       "    </tr>\n",
       "    <tr>\n",
       "      <th>4</th>\n",
       "      <td>AddisonReed</td>\n",
       "      <td>77</td>\n",
       "      <td>2</td>\n",
       "      <td>3</td>\n",
       "      <td>76.0</td>\n",
       "      <td>24</td>\n",
       "      <td>65</td>\n",
       "      <td>15</td>\n",
       "      <td>11</td>\n",
       "      <td>76</td>\n",
       "      <td>1</td>\n",
       "      <td>0</td>\n",
       "      <td>2</td>\n",
       "      <td>317.0</td>\n",
       "    </tr>\n",
       "  </tbody>\n",
       "</table>\n",
       "</div>"
      ],
      "text/plain": [
       "             Name   G   W   L     IP  ER    H  BB  HR   SO  HBP  BK  WP   Rank\n",
       "0       AaronNola  27  12  11  168.0  66  154  49  18  184    2   0   1   70.0\n",
       "1  AdalbertoMejia  21   4   7   98.0  49  110  44  13   85    5   2   2  636.0\n",
       "2      AdamConley  22   8   8  102.2  70  114  42  19   72    8   0   5  590.0\n",
       "3  AdamWainwright  24  12   5  123.1  70  140  45  14   96    5   0   2  491.0\n",
       "4     AddisonReed  77   2   3   76.0  24   65  15  11   76    1   0   2  317.0"
      ]
     },
     "execution_count": 340,
     "metadata": {},
     "output_type": "execute_result"
    }
   ],
   "source": [
    "pitching_merge = pd.merge(pitching, rank, how='inner',on='Name')\n",
    "pitching_merge.head()"
   ]
  },
  {
   "cell_type": "code",
   "execution_count": 341,
   "metadata": {
    "collapsed": true
   },
   "outputs": [],
   "source": [
    "pitching_attr =  ['HR','BB','SO','WP','ER','L','BK']\n",
    "rank_array = pitching_merge['Rank']\n",
    "\n",
    "def pitch_con(pitching_values):\n",
    "    values = np.zeros(len(rank_array)) \n",
    "    for i, j in enumerate(pitching_attr):\n",
    "        values = values + pitching_merge[j] * pitching_values[i]\n",
    "    pct = len([1 for i in values if i > 0])/len(values)\n",
    "    return pct - 0.7\n",
    "\n",
    "pitch_cons = {'type':'ineq', 'fun': pitch_con}\n",
    "\n",
    "def pitch_funct(pitching_values):\n",
    "    values = np.zeros(len(rank_array)) \n",
    "    for i, j in enumerate(pitching_attr):\n",
    "        values = values + pitching_merge[j] * pitching_values[i]\n",
    "    pitching_merge['values'] = values\n",
    "    return(-1 * np.corrcoef(pitching_merge['values'], pitching_merge['Rank'])[1,0])"
   ]
  },
  {
   "cell_type": "code",
   "execution_count": 342,
   "metadata": {},
   "outputs": [
    {
     "name": "stdout",
     "output_type": "stream",
     "text": [
      "The correlation coefficient for the 2017 parameter set is -0.7003489760779815\n",
      "The percentage of players with positive scores is 0.7702702702702703\n"
     ]
    }
   ],
   "source": [
    "# pitching_attr =  ['HR','BB','SO','WP','ER','L','BK']\n",
    "initial =          [5,    3,   -3,  3,   3,   5,   3]\n",
    "orig = pitch_funct(initial)\n",
    "\n",
    "pct =  len(pitching_merge[pitching_merge['values'] > 0])/len(pitching_merge['values'])\n",
    "\n",
    "print(\"The correlation coefficient for the 2017 parameter set is \" + str(orig))\n",
    "print(\"The percentage of players with positive scores is \" + str(pct))"
   ]
  },
  {
   "cell_type": "code",
   "execution_count": 343,
   "metadata": {},
   "outputs": [
    {
     "name": "stdout",
     "output_type": "stream",
     "text": [
      "The correlation coefficient for the optimized parameter set is -0.7376310027253765\n",
      "The parameter set is as follows: [ 4.77148409  2.62001697 -3.17204613  3.33320318  2.78947702  5.07084826\n",
      "  3.95074218]\n"
     ]
    }
   ],
   "source": [
    "opt_model= optimize.minimize(pitch_funct, x0=initial, method='COBYLA', constraints=pitch_cons) \n",
    "opt_values = opt_model.x\n",
    "opt = pitch_funct(opt_values)\n",
    "print(\"The correlation coefficient for the optimized parameter set is \" + str(opt))\n",
    "print(\"The parameter set is as follows: \" + str(opt_values))"
   ]
  },
  {
   "cell_type": "code",
   "execution_count": 344,
   "metadata": {},
   "outputs": [
    {
     "name": "stdout",
     "output_type": "stream",
     "text": [
      "The correlation coefficient for the optimized parameter set is -0.6950827175798062\n",
      "The percentage of players with positive scores is 0.777027027027027\n"
     ]
    }
   ],
   "source": [
    "# pitching_attr =  ['HR','BB','SO','WP','ER','L','BK']\n",
    "opt_values2 =      [ 4.5, 4,  -3, 3.5,  2.5, 4.5,  3 ]\n",
    "opt2 = pitch_funct(opt_values2)\n",
    "\n",
    "pct =  len(pitching_merge[pitching_merge['values'] > 0])/len(pitching_merge['values'])\n",
    "\n",
    "print(\"The correlation coefficient for the optimized parameter set is \" + str(opt2))\n",
    "print(\"The percentage of players with positive scores is \" + str(pct))"
   ]
  },
  {
   "cell_type": "code",
   "execution_count": 345,
   "metadata": {},
   "outputs": [
    {
     "data": {
      "image/png": "[encoded data removed]",
      "text/plain": [
       "<matplotlib.figure.Figure at 0x168866a0>"
      ]
     },
     "metadata": {},
     "output_type": "display_data"
    }
   ],
   "source": [
    "plt.scatter(pitching_merge['values'], pitching_merge['Rank'])\n",
    "\n",
    "plt.ylim(0)\n",
    "plt.title('Bill Bergen - Pitching')\n",
    "plt.xlabel('Fantasy Points 2017')\n",
    "plt.ylabel('Rank 2018')\n",
    "plt.show()\n"
   ]
  }
 ],
 "metadata": {
  "kernelspec": {
   "display_name": "Python 3",
   "language": "python",
   "name": "python3"
  },
  "language_info": {
   "codemirror_mode": {
    "name": "ipython",
    "version": 3
   },
   "file_extension": ".py",
   "mimetype": "text/x-python",
   "name": "python",
   "nbconvert_exporter": "python",
   "pygments_lexer": "ipython3",
   "version": "3.6.3"
  }
 },
 "nbformat": 4,
 "nbformat_minor": 2
}
