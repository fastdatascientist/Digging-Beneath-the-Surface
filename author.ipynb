{
 "cells": [
  {
   "cell_type": "markdown",
   "metadata": {
    "slideshow": {
     "slide_type": "slide"
    }
   },
   "source": [
    "# Digging Beneath the Surface"
   ]
  },
  {
   "cell_type": "markdown",
   "metadata": {},
   "source": [
    "[Home](https://johnsbr1.github.io/)\n",
    "\n",
    "[Previous Entries](https://johnsbr1.github.io/posts.html)\n"
   ]
  },
  {
   "cell_type": "markdown",
   "metadata": {},
   "source": [
    "### About Me"
   ]
  },
  {
   "cell_type": "markdown",
   "metadata": {},
   "source": [
    "Hello! My name is Ben Johnson.\n",
    "\n",
    "&nbsp;\n",
    "\n",
    "I'm a data scientist in the Inventory Management Research group within [Caterpillar Inc](https://www.caterpillar.com/). Most of my time is spent developing new optimization and simulation techniques that improve forecasting, streamline material flows, and more efficiently plan aftermarket parts. I also frequently develop data visualizations and communicate key results to our partners. \n",
    "\n",
    "&nbsp;\n",
    "\n",
    "My academic background is in industrial engineering and engineering management. I hold undergraduate and graduate degrees from the [South Dakota School of Mines & Technology](https://www.sdsmt.edu/). My education has immensely benefitted me in my career thus far, and I would recommend the school for anybody interested in STEM fields.\n",
    "\n",
    "&nbsp;\n",
    "\n",
    "I created this blog in order to publish personal projects that I have developed in my free time. This both encourages me to further advance my technical skills (Python/R/SAS/Tableau) as well as my communication ability. \n",
    "\n",
    "&nbsp;\n",
    "\n",
    "Hope you enjoy the articles!"
   ]
  },
  {
   "cell_type": "markdown",
   "metadata": {},
   "source": [
    "### Volunteering"
   ]
  },
  {
   "cell_type": "markdown",
   "metadata": {},
   "source": [
    "- [Elevate Church](http://elevatechurch.org/) -- Ben plays electric/acoustic/bass for the worship team, and Bri is a leader on the Vibe team\n",
    "- [Morton Mentor](http://www.mortonedc.org/news/be-a-morton-mentor) -- Ben is a mentor for three Morton High School students for the 2017-2018 school year\n",
    "- [TAPS Animal Shelter](http://www.tapsshelter.org/volunteers) -- Bri helps take care of cats and dogs at the local animal shelter"
   ]
  },
  {
   "cell_type": "markdown",
   "metadata": {},
   "source": [
    "### Favorite Bible Verses"
   ]
  },
  {
   "cell_type": "markdown",
   "metadata": {},
   "source": [
    "**Colossions 3:23**\n",
    "\n",
    "Whatever you do, work at it with all your heart, as working for the Lord, not for human masters.\n",
    "\n",
    "&nbsp;\n",
    "\n",
    "** 3 John 1:4**\n",
    "\n",
    "I have no greater joy than to hear that my children are walking in the truth.\n",
    "\n",
    "&nbsp;\n",
    "\n",
    "** Proverbs 3:5-6 **\n",
    "\n",
    "Trust in the Lord with all your heart and lean not on your own understanding; \n",
    "\n",
    "in all your ways submit to him, and he will make your paths straight."
   ]
  },
  {
   "cell_type": "markdown",
   "metadata": {},
   "source": [
    "![alt text](https://scontent-ort2-2.xx.fbcdn.net/v/t1.0-9/20228919_1844896172193461_3718538667171906333_n.jpg?oh=1685359e91d601e6891d0ad412eef493&oe=5B44612C \"Ben and Brianna, July 2017\")"
   ]
  }
 ],
 "metadata": {
  "celltoolbar": "Slideshow",
  "kernelspec": {
   "display_name": "Python 3",
   "language": "python",
   "name": "python3"
  },
  "language_info": {
   "codemirror_mode": {
    "name": "ipython",
    "version": 3
   },
   "file_extension": ".py",
   "mimetype": "text/x-python",
   "name": "python",
   "nbconvert_exporter": "python",
   "pygments_lexer": "ipython3",
   "version": "3.6.3"
  }
 },
 "nbformat": 4,
 "nbformat_minor": 1
}
