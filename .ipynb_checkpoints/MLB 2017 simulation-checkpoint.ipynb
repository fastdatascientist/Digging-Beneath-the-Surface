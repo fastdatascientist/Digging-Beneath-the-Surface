{
 "cells": [
  {
   "cell_type": "markdown",
   "metadata": {
    "slideshow": {
     "slide_type": "slide"
    }
   },
   "source": [
    "# Digging Beneath the Surface"
   ]
  },
  {
   "cell_type": "markdown",
   "metadata": {},
   "source": [
    "*Benjamin Johnson*\n",
    "\n",
    "\n",
    "*February 26, 2018*"
   ]
  },
  {
   "cell_type": "markdown",
   "metadata": {},
   "source": [
    "[Home](https://fastdatascientist.github.io/Digging-Beneath-the-Surface/)\n",
    "\n",
    "[About Me](https://fastdatascientist.github.io/Digging-Beneath-the-Surface/author.html)\n",
    "\n",
    "[Previous Entries](https://fastdatascientist.github.io/Digging-Beneath-the-Surface/posts.html)"
   ]
  },
  {
   "cell_type": "markdown",
   "metadata": {},
   "source": [
    "## Major League Baseball Simulation"
   ]
  },
  {
   "cell_type": "markdown",
   "metadata": {
    "slideshow": {
     "slide_type": "fragment"
    }
   },
   "source": [
    "[We're talking baseball!](https://www.youtube.com/watch?v=ZkpyZws4bJ8) Spring training games kicked off last week, and Opening Day is just around the corner. This blog entry will focus on the results from the 2017 regular season. We will use the runs scored (RS) and runs against (RA) for each team to predict their actual win totals. The two prediction methods that we'll focus on are Monte Carlo simulation and Bill James' Pythagorean Theorem of Baseball.\n",
    "\n",
    "&nbsp;\n",
    "\n",
    "Let's start by loading some Python packages and reading in a dataset."
   ]
  },
  {
   "cell_type": "code",
   "execution_count": 91,
   "metadata": {},
   "outputs": [
    {
     "data": {
      "text/html": [
       "<div>\n",
       "<style>\n",
       "    .dataframe thead tr:only-child th {\n",
       "        text-align: right;\n",
       "    }\n",
       "\n",
       "    .dataframe thead th {\n",
       "        text-align: left;\n",
       "    }\n",
       "\n",
       "    .dataframe tbody tr th {\n",
       "        vertical-align: top;\n",
       "    }\n",
       "</style>\n",
       "<table border=\"1\" class=\"dataframe\">\n",
       "  <thead>\n",
       "    <tr style=\"text-align: right;\">\n",
       "      <th></th>\n",
       "      <th>Team</th>\n",
       "      <th>League</th>\n",
       "      <th>RS</th>\n",
       "      <th>RA</th>\n",
       "      <th>Wins</th>\n",
       "    </tr>\n",
       "  </thead>\n",
       "  <tbody>\n",
       "    <tr>\n",
       "      <th>0</th>\n",
       "      <td>San Francisco Giants</td>\n",
       "      <td>NL</td>\n",
       "      <td>5</td>\n",
       "      <td>6</td>\n",
       "      <td>0</td>\n",
       "    </tr>\n",
       "    <tr>\n",
       "      <th>1</th>\n",
       "      <td>Chicago Cubs</td>\n",
       "      <td>NL</td>\n",
       "      <td>3</td>\n",
       "      <td>4</td>\n",
       "      <td>0</td>\n",
       "    </tr>\n",
       "    <tr>\n",
       "      <th>2</th>\n",
       "      <td>New York Yankees</td>\n",
       "      <td>AL</td>\n",
       "      <td>3</td>\n",
       "      <td>7</td>\n",
       "      <td>0</td>\n",
       "    </tr>\n",
       "    <tr>\n",
       "      <th>3</th>\n",
       "      <td>Toronto Blue Jays</td>\n",
       "      <td>AL</td>\n",
       "      <td>2</td>\n",
       "      <td>3</td>\n",
       "      <td>0</td>\n",
       "    </tr>\n",
       "    <tr>\n",
       "      <th>4</th>\n",
       "      <td>Pittsburgh Pirates</td>\n",
       "      <td>NL</td>\n",
       "      <td>3</td>\n",
       "      <td>5</td>\n",
       "      <td>0</td>\n",
       "    </tr>\n",
       "    <tr>\n",
       "      <th>5</th>\n",
       "      <td>Philadelphia Phillies</td>\n",
       "      <td>NL</td>\n",
       "      <td>4</td>\n",
       "      <td>3</td>\n",
       "      <td>1</td>\n",
       "    </tr>\n",
       "  </tbody>\n",
       "</table>\n",
       "</div>"
      ],
      "text/plain": [
       "                     Team League  RS  RA  Wins\n",
       "0   San Francisco Giants      NL   5   6     0\n",
       "1           Chicago Cubs      NL   3   4     0\n",
       "2       New York Yankees      AL   3   7     0\n",
       "3      Toronto Blue Jays      AL   2   3     0\n",
       "4     Pittsburgh Pirates      NL   3   5     0\n",
       "5  Philadelphia Phillies      NL   4   3     1"
      ]
     },
     "execution_count": 91,
     "metadata": {},
     "output_type": "execute_result"
    }
   ],
   "source": [
    "import pandas as pd\n",
    "import numpy as np\n",
    "\n",
    "df = pd.read_csv(r'C:\\Users\\Benjamin\\Desktop\\mlb_2017.csv', encoding = \"ISO-8859-1\")\n",
    "df['Wins'] = np.where(df['RS'] > df['RA'], 1, 0)\n",
    "df.head(6)"
   ]
  },
  {
   "cell_type": "markdown",
   "metadata": {},
   "source": [
    "The *mlb_2017.csv* file contains the runs scored (RS) and runs against (RA) for all 162 regular season games for each time. Additionally, we have an indicator for whether the team belongs in the American League (AL) or National League (NL). We'll use this indicator for normalizing the values in the next block. The *Wins* column was calculated by checking whether the team scored more or less runs than its opponent (games typically cannot end in a tie).\n",
    "\n",
    "&nbsp;\n",
    "\n",
    "**Notes**: \n",
    "- The original dataset contained additional information, such as dates, number of innings, number of home runs, etc, but these columns were manually excluded when exporting the CSV.\n",
    "- Credit to [Baseball Reference](https://www.baseball-reference.com/) for providing the data."
   ]
  },
  {
   "cell_type": "code",
   "execution_count": 101,
   "metadata": {},
   "outputs": [
    {
     "name": "stdout",
     "output_type": "stream",
     "text": [
      "The AL mean for runs scored is 4.709053497942387\n",
      "The NL mean for runs scored is 4.583950617283951\n"
     ]
    },
    {
     "data": {
      "text/html": [
       "<div>\n",
       "<style>\n",
       "    .dataframe thead tr:only-child th {\n",
       "        text-align: right;\n",
       "    }\n",
       "\n",
       "    .dataframe thead th {\n",
       "        text-align: left;\n",
       "    }\n",
       "\n",
       "    .dataframe tbody tr th {\n",
       "        vertical-align: top;\n",
       "    }\n",
       "</style>\n",
       "<table border=\"1\" class=\"dataframe\">\n",
       "  <thead>\n",
       "    <tr style=\"text-align: right;\">\n",
       "      <th></th>\n",
       "      <th>Team</th>\n",
       "      <th>League</th>\n",
       "      <th>RS</th>\n",
       "      <th>RA</th>\n",
       "      <th>Wins</th>\n",
       "      <th>RS_norm</th>\n",
       "      <th>RA_norm</th>\n",
       "    </tr>\n",
       "  </thead>\n",
       "  <tbody>\n",
       "    <tr>\n",
       "      <th>0</th>\n",
       "      <td>San Francisco Giants</td>\n",
       "      <td>NL</td>\n",
       "      <td>5</td>\n",
       "      <td>6</td>\n",
       "      <td>0</td>\n",
       "      <td>3.571742</td>\n",
       "      <td>4.569133</td>\n",
       "    </tr>\n",
       "    <tr>\n",
       "      <th>1</th>\n",
       "      <td>Chicago Cubs</td>\n",
       "      <td>NL</td>\n",
       "      <td>3</td>\n",
       "      <td>4</td>\n",
       "      <td>0</td>\n",
       "      <td>1.571742</td>\n",
       "      <td>2.569133</td>\n",
       "    </tr>\n",
       "    <tr>\n",
       "      <th>2</th>\n",
       "      <td>New York Yankees</td>\n",
       "      <td>AL</td>\n",
       "      <td>3</td>\n",
       "      <td>7</td>\n",
       "      <td>0</td>\n",
       "      <td>1.551201</td>\n",
       "      <td>5.554209</td>\n",
       "    </tr>\n",
       "    <tr>\n",
       "      <th>3</th>\n",
       "      <td>Toronto Blue Jays</td>\n",
       "      <td>AL</td>\n",
       "      <td>2</td>\n",
       "      <td>3</td>\n",
       "      <td>0</td>\n",
       "      <td>0.551201</td>\n",
       "      <td>1.554209</td>\n",
       "    </tr>\n",
       "    <tr>\n",
       "      <th>4</th>\n",
       "      <td>Pittsburgh Pirates</td>\n",
       "      <td>NL</td>\n",
       "      <td>3</td>\n",
       "      <td>5</td>\n",
       "      <td>0</td>\n",
       "      <td>1.571742</td>\n",
       "      <td>3.569133</td>\n",
       "    </tr>\n",
       "  </tbody>\n",
       "</table>\n",
       "</div>"
      ],
      "text/plain": [
       "                    Team League  RS  RA  Wins   RS_norm   RA_norm\n",
       "0  San Francisco Giants      NL   5   6     0  3.571742  4.569133\n",
       "1          Chicago Cubs      NL   3   4     0  1.571742  2.569133\n",
       "2      New York Yankees      AL   3   7     0  1.551201  5.554209\n",
       "3     Toronto Blue Jays      AL   2   3     0  0.551201  1.554209\n",
       "4    Pittsburgh Pirates      NL   3   5     0  1.571742  3.569133"
      ]
     },
     "execution_count": 101,
     "metadata": {},
     "output_type": "execute_result"
    }
   ],
   "source": [
    "mean_al = df[df['League'] == 'AL'].mean()\n",
    "stdev_al = df[df['League'] == 'AL'].std()\n",
    "mean_nl = df[df['League'] == 'NL'].mean()\n",
    "stdev_nl = df[df['League'] == 'NL'].std()\n",
    "\n",
    "df['RS_norm'] = np.where(df['League'] == 'AL', df['RS'] - mean_al['RS']/stdev_al['RS'], df['RS'] - mean_nl['RS']/stdev_nl['RS'])\n",
    "df['RA_norm'] = np.where(df['League'] == 'AL', df['RA'] - mean_al['RA']/stdev_al['RA'], df['RA'] - mean_nl['RA']/stdev_nl['RA'])\n",
    "\n",
    "print(\"The AL mean for runs scored is \" + str(mean_al['RS']))\n",
    "print(\"The NL mean for runs scored is \" + str(mean_nl['RS']))\n",
    "df.head()"
   ]
  },
  {
   "cell_type": "markdown",
   "metadata": {},
   "source": [
    "American League teams generally score more runs than National League teams due to the designated hitter (DH) rule. To account for this, we normalize runs scored and runs against by scaling the raw values. However, it appears that the difference between the means is minor. In 2017, American League teams only scored *2.7%* more runs than National League teams on average (or 20 runs across 162 games). We will still use the normalized values in the upcoming analysis regardless."
   ]
  },
  {
   "cell_type": "code",
   "execution_count": 102,
   "metadata": {},
   "outputs": [
    {
     "data": {
      "text/html": [
       "<div>\n",
       "<style>\n",
       "    .dataframe thead tr:only-child th {\n",
       "        text-align: right;\n",
       "    }\n",
       "\n",
       "    .dataframe thead th {\n",
       "        text-align: left;\n",
       "    }\n",
       "\n",
       "    .dataframe tbody tr th {\n",
       "        vertical-align: top;\n",
       "    }\n",
       "</style>\n",
       "<table border=\"1\" class=\"dataframe\">\n",
       "  <thead>\n",
       "    <tr style=\"text-align: right;\">\n",
       "      <th></th>\n",
       "      <th>Wins</th>\n",
       "      <th>RS</th>\n",
       "      <th>RA</th>\n",
       "    </tr>\n",
       "    <tr>\n",
       "      <th>Team</th>\n",
       "      <th></th>\n",
       "      <th></th>\n",
       "      <th></th>\n",
       "    </tr>\n",
       "  </thead>\n",
       "  <tbody>\n",
       "    <tr>\n",
       "      <th>Arizona D'Backs</th>\n",
       "      <td>93</td>\n",
       "      <td>812</td>\n",
       "      <td>659</td>\n",
       "    </tr>\n",
       "    <tr>\n",
       "      <th>Atlanta Braves</th>\n",
       "      <td>72</td>\n",
       "      <td>732</td>\n",
       "      <td>821</td>\n",
       "    </tr>\n",
       "    <tr>\n",
       "      <th>Baltimore Orioles</th>\n",
       "      <td>75</td>\n",
       "      <td>743</td>\n",
       "      <td>841</td>\n",
       "    </tr>\n",
       "    <tr>\n",
       "      <th>Boston Red Sox</th>\n",
       "      <td>93</td>\n",
       "      <td>785</td>\n",
       "      <td>668</td>\n",
       "    </tr>\n",
       "    <tr>\n",
       "      <th>Chicago Cubs</th>\n",
       "      <td>92</td>\n",
       "      <td>822</td>\n",
       "      <td>695</td>\n",
       "    </tr>\n",
       "  </tbody>\n",
       "</table>\n",
       "</div>"
      ],
      "text/plain": [
       "                    Wins   RS   RA\n",
       "Team                              \n",
       "Arizona D'Backs       93  812  659\n",
       "Atlanta Braves        72  732  821\n",
       "Baltimore Orioles     75  743  841\n",
       "Boston Red Sox        93  785  668\n",
       "Chicago Cubs          92  822  695"
      ]
     },
     "execution_count": 102,
     "metadata": {},
     "output_type": "execute_result"
    }
   ],
   "source": [
    "table = pd.pivot_table(df, values=['Wins','RS_norm','RA_norm', 'RS', 'RA'], index='Team', aggfunc=[np.sum, np.mean, np.std])\n",
    "wins = table['sum'][['Wins', 'RS', 'RA']]\n",
    "norm = table['mean'][['RS_norm','RA_norm']]\n",
    "stdev = table['std'][['RS_norm','RA_norm']]\n",
    "wins.head()"
   ]
  },
  {
   "cell_type": "markdown",
   "metadata": {},
   "source": [
    "This code block creates a pivot table that summarizes our variables for each team. The **wins** dataframe will be used to compare to the two prediction methods. The **norm** and **stdev** dataframes will be used within the Monte Carlo simulation in the next section."
   ]
  },
  {
   "cell_type": "code",
   "execution_count": 77,
   "metadata": {
    "collapsed": true
   },
   "outputs": [],
   "source": [
    "### Create list of unique teams\n",
    "teams = norm.index.tolist()\n",
    "#teams = [\"Arizona D'Backs\\xa0\"]\n",
    "\n",
    "# Number of seasons and games to simulate\n",
    "num_seasons = 100\n",
    "num_games = 162\n",
    "\n",
    "team_dict = {}\n",
    "### Simulate entire season for each team\n",
    "for team in teams:\n",
    "    w_total = 0\n",
    "    games = 0\n",
    "    for i in np.arange(num_seasons):\n",
    "        for g in np.arange(num_games):\n",
    "            ra = np.random.normal(norm.loc[team, 'RA_norm'], stdev.loc[team, 'RA_norm'], 1)\n",
    "            rs = np.random.normal(norm.loc[team, 'RS_norm'], stdev.loc[team, 'RS_norm'], 1)\n",
    "            if rs > ra:\n",
    "                w_total += 1\n",
    "            games += 1\n",
    "    team_dict[team] = round(w_total/games * num_games,0)\n",
    "    sim = pd.Series(team_dict)"
   ]
  },
  {
   "cell_type": "markdown",
   "metadata": {},
   "source": [
    "First, we create a list of all thirty Major League Baseball teams in the **norm** dataframe. We then initialize the number of games within a single season and the total number of seasons to simulate. We also create an empty dictionary to store the results of the Monte Carlo simulation.\n",
    "\n",
    "&nbsp;\n",
    "\n",
    "The simulation loops through each team, season, and game within that season. The win totals and game counts are reset prior to simulating the next team. Then, we grab a random normal value for the runs against and the runs scored. If the runs scored is greater than the runs against, then the team wins that particular game. After looping through all of the games, and keeping track of the wins and total games, we add the average number of wins per season to the dictionary and convert the dictionary to a *pandas series*.\n",
    "\n",
    "&nbsp;\n",
    "\n",
    "**Notes:**\n",
    "- The normal distribution is continuous, but baseball scores are discrete. However, this actually works in our favor, as there is very little chance of a tie occurring.\n",
    "- As the average wins per season can be fractional, we are rounding up or down to the nearest integer."
   ]
  },
  {
   "cell_type": "code",
   "execution_count": 78,
   "metadata": {},
   "outputs": [
    {
     "data": {
      "text/html": [
       "<div>\n",
       "<style>\n",
       "    .dataframe thead tr:only-child th {\n",
       "        text-align: right;\n",
       "    }\n",
       "\n",
       "    .dataframe thead th {\n",
       "        text-align: left;\n",
       "    }\n",
       "\n",
       "    .dataframe tbody tr th {\n",
       "        vertical-align: top;\n",
       "    }\n",
       "</style>\n",
       "<table border=\"1\" class=\"dataframe\">\n",
       "  <thead>\n",
       "    <tr style=\"text-align: right;\">\n",
       "      <th></th>\n",
       "      <th>Wins</th>\n",
       "      <th>Wins_sim</th>\n",
       "      <th>Wins_py</th>\n",
       "    </tr>\n",
       "    <tr>\n",
       "      <th>Team</th>\n",
       "      <th></th>\n",
       "      <th></th>\n",
       "      <th></th>\n",
       "    </tr>\n",
       "  </thead>\n",
       "  <tbody>\n",
       "    <tr>\n",
       "      <th>Arizona D'Backs</th>\n",
       "      <td>93</td>\n",
       "      <td>95.0</td>\n",
       "      <td>98.0</td>\n",
       "    </tr>\n",
       "    <tr>\n",
       "      <th>Atlanta Braves</th>\n",
       "      <td>72</td>\n",
       "      <td>73.0</td>\n",
       "      <td>72.0</td>\n",
       "    </tr>\n",
       "    <tr>\n",
       "      <th>Baltimore Orioles</th>\n",
       "      <td>75</td>\n",
       "      <td>73.0</td>\n",
       "      <td>71.0</td>\n",
       "    </tr>\n",
       "    <tr>\n",
       "      <th>Boston Red Sox</th>\n",
       "      <td>93</td>\n",
       "      <td>91.0</td>\n",
       "      <td>94.0</td>\n",
       "    </tr>\n",
       "    <tr>\n",
       "      <th>Chicago Cubs</th>\n",
       "      <td>92</td>\n",
       "      <td>91.0</td>\n",
       "      <td>94.0</td>\n",
       "    </tr>\n",
       "  </tbody>\n",
       "</table>\n",
       "</div>"
      ],
      "text/plain": [
       "                    Wins  Wins_sim  Wins_py\n",
       "Team                                       \n",
       "Arizona D'Backs       93      95.0     98.0\n",
       "Atlanta Braves        72      73.0     72.0\n",
       "Baltimore Orioles     75      73.0     71.0\n",
       "Boston Red Sox        93      91.0     94.0\n",
       "Chicago Cubs          92      91.0     94.0"
      ]
     },
     "execution_count": 78,
     "metadata": {},
     "output_type": "execute_result"
    }
   ],
   "source": [
    "merged = wins.join(sim.to_frame(name = 'Wins_sim'), how='inner')\n",
    "merged['Wins_py'] = round((merged['RS']**2) / (merged['RS']**2 + merged['RA']**2) * 162, 0)\n",
    "merged = merged[['Wins', 'Wins_sim', 'Wins_py']]\n",
    "merged.head()"
   ]
  },
  {
   "cell_type": "markdown",
   "metadata": {},
   "source": [
    "Next, we merge the simulated wins, *Wins_sim*, to the **wins** data, creating the **merged** dataframe. We also create the *Wins_py* column, which is the predicted wins according to the Pythagorean Theorem of Baseball. The formula is as follows:\n",
    "\n",
    "&nbsp;\n",
    "\n",
    "Predicted Wins =[(Runs Scored)^2]/[(Runs Scored)^2 + (Runs Allowed)^2] * 162\n"
   ]
  },
  {
   "cell_type": "code",
   "execution_count": 85,
   "metadata": {},
   "outputs": [
    {
     "name": "stdout",
     "output_type": "stream",
     "text": [
      "Wins_sim: 0.8905601659751037\n",
      "Wins_py: 0.8438796680497925\n"
     ]
    }
   ],
   "source": [
    "def r_squared(col):\n",
    "    avg_wins = 162/2\n",
    "    sse = (merged[col] - merged['Wins']) ** 2\n",
    "    sst = (avg_wins - merged['Wins']) ** 2\n",
    "    r_squared = 1 - sse.sum()/sst.sum()\n",
    "    print(col + \": \" + str(r_squared))\n",
    "\n",
    "r_squared('Wins_sim')\n",
    "r_squared('Wins_py')"
   ]
  },
  {
   "cell_type": "markdown",
   "metadata": {},
   "source": [
    "We now have the actual wins, simulated wins, and Pythagorean Theorem wins. This allows us to measure the accuracy of the models. By comparing the [sum of the squares of the errors](https://en.wikipedia.org/wiki/Residual_sum_of_squares) to the [total sum of squares](https://en.wikipedia.org/wiki/Total_sum_of_squares) (or the squared difference between each team's win total and the average wins), we can calculate the [R squared](https://en.wikipedia.org/wiki/Coefficient_of_determination) for each model. The R squared is a measure of how much variability can be explained by a particular model, where R squared = 1 represents a model that fits the data perfectly.\n",
    "\n",
    "&nbsp;\n",
    "\n",
    "Both models appear to be good predictors of the true win totals. The simulated predictions have an R squared nearly 5% higher than the Pythagorean Theorem model. However, we needed to perform quite a bit more work (and collect more granular data) in order to make these predictions. For future MLB win predictions, we're likely best off using Bill James' Pythagorean Theorem of Baseball formula.\n",
    "\n",
    "&nbsp;\n",
    "\n",
    "Hope you enjoyed the analysis! And you'd better hope that your team doesn't lose the Opener; otherwise they won't be able to serve any beer! *#DadJokes*\n",
    "\n",
    "&nbsp;\n",
    "\n",
    "Until next time,\n",
    "&nbsp;\n",
    "\n",
    "Ben"
   ]
  },
  {
   "cell_type": "markdown",
   "metadata": {},
   "source": [
    "![alt text](https://scontent-ort2-2.xx.fbcdn.net/v/t1.0-9/224478_10150744115150367_3111357_n.jpg?oh=750b1c1f9d2fc80891a91e2c9a0c5e4a&oe=5B0238A7 \"Yankee Stadium 2011 - Nicole, Ben, Jon\")\n"
   ]
  }
 ],
 "metadata": {
  "celltoolbar": "Slideshow",
  "kernelspec": {
   "display_name": "Python 3",
   "language": "python",
   "name": "python3"
  },
  "language_info": {
   "codemirror_mode": {
    "name": "ipython",
    "version": 3
   },
   "file_extension": ".py",
   "mimetype": "text/x-python",
   "name": "python",
   "nbconvert_exporter": "python",
   "pygments_lexer": "ipython3",
   "version": "3.6.3"
  }
 },
 "nbformat": 4,
 "nbformat_minor": 1
}
