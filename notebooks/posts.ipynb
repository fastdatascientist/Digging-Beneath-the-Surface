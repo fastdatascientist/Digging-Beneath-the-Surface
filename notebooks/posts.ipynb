{
 "cells": [
  {
   "cell_type": "markdown",
   "metadata": {
    "slideshow": {
     "slide_type": "slide"
    }
   },
   "source": [
    "# Digging Beneath the Surface"
   ]
  },
  {
   "cell_type": "markdown",
   "metadata": {},
   "source": [
    "[Home](https://fastdatascientist.github.io/Digging-Beneath-the-Surface/)\n",
    "\n",
    "[About Me](https://fastdatascientist.github.io/Digging-Beneath-the-Surface//author.html)\n"
   ]
  },
  {
   "cell_type": "markdown",
   "metadata": {},
   "source": [
    "### June 2022\n",
    "[Investment Simulator](https://fastdatascientist.github.io/Digging-Beneath-the-Surface//posts/Investment+Simulation.html)\n",
    "&nbsp;\n",
    "\n",
    "### March 2018\n",
    "[Parameter Optimization for Bill Bergen Fantasy Baseball](https://fastdatascientist.github.io/Digging-Beneath-the-Surface//posts/Fantasy+Baseball+Parameter+Optimization.html)\n",
    "&nbsp;\n",
    "\n",
    "### February 2018\n",
    "[Major League Baseball Simulation](https://fastdatascientist.github.io/Digging-Beneath-the-Surface//posts/MLB+2017+simulation.html)"
   ]
  }
 ],
 "metadata": {
  "celltoolbar": "Slideshow",
  "kernelspec": {
   "display_name": "Python 3 (ipykernel)",
   "language": "python",
   "name": "python3"
  },
  "language_info": {
   "codemirror_mode": {
    "name": "ipython",
    "version": 3
   },
   "file_extension": ".py",
   "mimetype": "text/x-python",
   "name": "python",
   "nbconvert_exporter": "python",
   "pygments_lexer": "ipython3",
   "version": "3.10.4"
  }
 },
 "nbformat": 4,
 "nbformat_minor": 4
}
