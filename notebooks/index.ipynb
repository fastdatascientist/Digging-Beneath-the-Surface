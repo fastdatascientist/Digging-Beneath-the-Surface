{
 "cells": [
  {
   "cell_type": "markdown",
   "metadata": {
    "slideshow": {
     "slide_type": "slide"
    }
   },
   "source": [
    "# Digging Beneath the Surface"
   ]
  },
  {
   "cell_type": "markdown",
   "metadata": {},
   "source": [
    "*Benjamin Johnson*\n",
    "\n",
    "\n",
    "*Last Updated: June 6, 2022*"
   ]
  },
  {
   "cell_type": "markdown",
   "metadata": {},
   "source": [
    "[Home](https://fastdatascientist.github.io/Digging-Beneath-the-Surface/)\n",
    "\n",
    "[About Me](https://fastdatascientist.github.io/Digging-Beneath-the-Surface/author.html)\n",
    "\n",
    "[Posts](https://fastdatascientist.github.io/Digging-Beneath-the-Surface/posts.html)"
   ]
  },
  {
   "cell_type": "markdown",
   "metadata": {},
   "source": [
    "## Welcome!"
   ]
  },
  {
   "cell_type": "markdown",
   "metadata": {
    "slideshow": {
     "slide_type": "fragment"
    }
   },
   "source": [
    "Hi there! My name is Ben, and I'd like to welcome you to *Digging Beneath the Surface*. I created this blog in 2018 to publish personal analytics projects developed in my free time. This both encourages me to further advance my technical skills as well as my communication ability. I took a long hiatus from Mar 2018 - Jun 2022, but my goal will be to publish new articles on a monthly basis for the foreseeable future.\n",
    "\n",
    "&nbsp;\n",
    "\n",
    "Hope you enjoy the articles!"
   ]
  },
  {
   "cell_type": "markdown",
   "metadata": {},
   "source": [
    "![image](https://raw.githubusercontent.com/johnsbr1/johnsbr1.github.io/master/IMG_3061.jpg)"
   ]
  },
  {
   "cell_type": "markdown",
   "metadata": {},
   "source": [
    "<h4 align=\"center\">Ben & Bri on Coronado Island in San Diego, CA</h4> "
   ]
  }
 ],
 "metadata": {
  "celltoolbar": "Slideshow",
  "kernelspec": {
   "display_name": "Python 3",
   "language": "python",
   "name": "python3"
  },
  "language_info": {
   "codemirror_mode": {
    "name": "ipython",
    "version": 3
   },
   "file_extension": ".py",
   "mimetype": "text/x-python",
   "name": "python",
   "nbconvert_exporter": "python",
   "pygments_lexer": "ipython3",
   "version": "3.6.3"
  }
 },
 "nbformat": 4,
 "nbformat_minor": 1
}
