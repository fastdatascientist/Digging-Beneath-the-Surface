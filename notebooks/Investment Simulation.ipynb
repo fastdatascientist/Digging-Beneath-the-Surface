{
 "cells": [
  {
   "cell_type": "markdown",
   "metadata": {
    "slideshow": {
     "slide_type": "slide"
    }
   },
   "source": [
    "# Digging Beneath the Surface"
   ]
  },
  {
   "cell_type": "markdown",
   "metadata": {},
   "source": [
    "*Benjamin Johnson*\n",
    "\n",
    "\n",
    "*June 11, 2022*"
   ]
  },
  {
   "cell_type": "markdown",
   "metadata": {},
   "source": [
    "[Home](https://fastdatascientist.github.io/Digging-Beneath-the-Surface/)\n",
    "\n",
    "[About Me](https://fastdatascientist.github.io/Digging-Beneath-the-Surface/author.html)\n",
    "\n",
    "[Previous Posts](https://fastdatascientist.github.io/Digging-Beneath-the-Surface/posts.html)"
   ]
  },
  {
   "cell_type": "markdown",
   "metadata": {},
   "source": [
    "## Investment Simulator"
   ]
  },
  {
   "cell_type": "markdown",
   "metadata": {
    "slideshow": {
     "slide_type": "fragment"
    }
   },
   "source": [
    "After two baseball articles (and over a 4 year hiatus!), we're finally tackling another subject. The world has been buzzing with uncertainty with issues such as rising gas prices (US average > $5/gal), a 40-year inflation high of 8.9% YoY, and the largest stock market drop since 2008. However, we're setting our sights on something more positive today. Even with an 18.16% reduction in the Standard and Poor's (S&P) 500 index this year, it has more than doubled since I started my career and began investing. A buy and hold strategy has lead to consistent returns over longer periods. Our goal for this article is to estimate investment growth over time by feeding historical rates of return into a Monte Carlo simulation. "
   ]
  },
  {
   "cell_type": "code",
   "execution_count": 272,
   "metadata": {},
   "outputs": [
    {
     "data": {
      "text/html": [
       "<div>\n",
       "<style scoped>\n",
       "    .dataframe tbody tr th:only-of-type {\n",
       "        vertical-align: middle;\n",
       "    }\n",
       "\n",
       "    .dataframe tbody tr th {\n",
       "        vertical-align: top;\n",
       "    }\n",
       "\n",
       "    .dataframe thead th {\n",
       "        text-align: right;\n",
       "    }\n",
       "</style>\n",
       "<table border=\"1\" class=\"dataframe\">\n",
       "  <thead>\n",
       "    <tr style=\"text-align: right;\">\n",
       "      <th></th>\n",
       "      <th>year</th>\n",
       "      <th>ror</th>\n",
       "    </tr>\n",
       "  </thead>\n",
       "  <tbody>\n",
       "    <tr>\n",
       "      <th>0</th>\n",
       "      <td>1928</td>\n",
       "      <td>37.88</td>\n",
       "    </tr>\n",
       "    <tr>\n",
       "      <th>1</th>\n",
       "      <td>1929</td>\n",
       "      <td>-11.91</td>\n",
       "    </tr>\n",
       "    <tr>\n",
       "      <th>2</th>\n",
       "      <td>1930</td>\n",
       "      <td>-28.48</td>\n",
       "    </tr>\n",
       "    <tr>\n",
       "      <th>3</th>\n",
       "      <td>1931</td>\n",
       "      <td>-47.07</td>\n",
       "    </tr>\n",
       "    <tr>\n",
       "      <th>4</th>\n",
       "      <td>1932</td>\n",
       "      <td>-15.15</td>\n",
       "    </tr>\n",
       "    <tr>\n",
       "      <th>5</th>\n",
       "      <td>1933</td>\n",
       "      <td>46.59</td>\n",
       "    </tr>\n",
       "  </tbody>\n",
       "</table>\n",
       "</div>"
      ],
      "text/plain": [
       "   year    ror\n",
       "0  1928  37.88\n",
       "1  1929 -11.91\n",
       "2  1930 -28.48\n",
       "3  1931 -47.07\n",
       "4  1932 -15.15\n",
       "5  1933  46.59"
      ]
     },
     "execution_count": 272,
     "metadata": {},
     "output_type": "execute_result"
    }
   ],
   "source": [
    "import pandas as pd\n",
    "import numpy as np\n",
    "import math\n",
    "import random\n",
    "\n",
    "df = pd.read_csv(sp-500-historical-annual-returns.csv\", encoding=\"utf-8\")\n",
    "df.head(6)"
   ]
  },
  {
   "cell_type": "markdown",
   "metadata": {},
   "source": [
    "The imported file contains the yearly rate of return for the S&P 500 index from 1928 thru 2021.\n",
    "&nbsp;\n",
    "\n",
    "**Notes**: \n",
    "- S&P 500 index was created in 1957 as a benchmark for the overall stock market. Prior to this date, the returns are for the S&P 90 Stock Index, formed in 1928.\n",
    "- 2022 has been included since it's a partial year. The current rate of return as of June 11 is -18.16%.\n",
    "- Credit to [macrotrends](https://www.macrotrends.net/2488/sp500-10-year-daily-chart/) for providing the data."
   ]
  },
  {
   "cell_type": "markdown",
   "metadata": {},
   "source": [
    "Let's limit our dataset to only include the last 50 years of returns."
   ]
  },
  {
   "cell_type": "code",
   "execution_count": 111,
   "metadata": {},
   "outputs": [
    {
     "data": {
      "text/html": [
       "<div>\n",
       "<style scoped>\n",
       "    .dataframe tbody tr th:only-of-type {\n",
       "        vertical-align: middle;\n",
       "    }\n",
       "\n",
       "    .dataframe tbody tr th {\n",
       "        vertical-align: top;\n",
       "    }\n",
       "\n",
       "    .dataframe thead th {\n",
       "        text-align: right;\n",
       "    }\n",
       "</style>\n",
       "<table border=\"1\" class=\"dataframe\">\n",
       "  <thead>\n",
       "    <tr style=\"text-align: right;\">\n",
       "      <th></th>\n",
       "      <th>year</th>\n",
       "      <th>ror</th>\n",
       "    </tr>\n",
       "  </thead>\n",
       "  <tbody>\n",
       "    <tr>\n",
       "      <th>44</th>\n",
       "      <td>1972</td>\n",
       "      <td>15.63</td>\n",
       "    </tr>\n",
       "    <tr>\n",
       "      <th>45</th>\n",
       "      <td>1973</td>\n",
       "      <td>-17.37</td>\n",
       "    </tr>\n",
       "    <tr>\n",
       "      <th>46</th>\n",
       "      <td>1974</td>\n",
       "      <td>-29.72</td>\n",
       "    </tr>\n",
       "    <tr>\n",
       "      <th>47</th>\n",
       "      <td>1975</td>\n",
       "      <td>31.55</td>\n",
       "    </tr>\n",
       "    <tr>\n",
       "      <th>48</th>\n",
       "      <td>1976</td>\n",
       "      <td>19.15</td>\n",
       "    </tr>\n",
       "  </tbody>\n",
       "</table>\n",
       "</div>"
      ],
      "text/plain": [
       "    year    ror\n",
       "44  1972  15.63\n",
       "45  1973 -17.37\n",
       "46  1974 -29.72\n",
       "47  1975  31.55\n",
       "48  1976  19.15"
      ]
     },
     "execution_count": 111,
     "metadata": {},
     "output_type": "execute_result"
    }
   ],
   "source": [
    "from datetime import date\n",
    "\n",
    "current_year = date.today().year\n",
    "\n",
    "df50 = df[df['year'] >= current_year - 50]\n",
    "df50.sort_values('year').head()"
   ]
  },
  {
   "cell_type": "markdown",
   "metadata": {},
   "source": [
    "In addition to the rates of return, our investment growth will also be dependendent on our contributions and our investment horizon. For simplicity, let's start by assuming constant contributions of $X per year for Y years."
   ]
  },
  {
   "cell_type": "code",
   "execution_count": 33,
   "metadata": {},
   "outputs": [
    {
     "name": "stdout",
     "output_type": "stream",
     "text": [
      "With 0% rate of return, our investment of $6000/yr for 30 years will yield a total of $180000\n"
     ]
    }
   ],
   "source": [
    "X = 6000 # The 2022 IRA contribution is $6K per individual. A Roth IRA allows us to contribute after tax dollars with TAX-FREE GROWTH!\n",
    "Y = 30   # This factor will greatly depend on an individual's age and years to retirement\n",
    "\n",
    "Investment = X * Y\n",
    "print(\"With 0% rate of return, our investment of $\" + str(X) + \"/yr for \" + str(Y) + \" years will yield a total of $\" + str(Investment))"
   ]
  },
  {
   "cell_type": "markdown",
   "metadata": {},
   "source": [
    "Now, let's randomly select rates of return (with replacement) from the last 50 years to create a new estimate that accounts for growth."
   ]
  },
  {
   "cell_type": "code",
   "execution_count": 135,
   "metadata": {
    "tags": []
   },
   "outputs": [
    {
     "name": "stdout",
     "output_type": "stream",
     "text": [
      "The rate of return for Year 1 = 28.88%\n",
      "The rate of return for Year 2 = -29.72%\n",
      "The rate of return for Year 3 = 19.53%\n",
      "The rate of return for Year 4 = 8.99%\n",
      "The rate of return for Year 5 = 19.15%\n",
      "The rate of return for Year 6 = 12.31%\n",
      "The rate of return for Year 7 = 23.45%\n",
      "The rate of return for Year 8 = 23.45%\n",
      "The rate of return for Year 9 = 13.62%\n",
      "The rate of return for Year 10 = 31.55%\n",
      "The rate of return for Year 11 = 13.41%\n",
      "The rate of return for Year 12 = 3.53%\n",
      "The rate of return for Year 13 = 3.53%\n",
      "The rate of return for Year 14 = 8.99%\n",
      "The rate of return for Year 15 = -6.56%\n",
      "The rate of return for Year 16 = 0.0%\n",
      "The rate of return for Year 17 = 26.67%\n",
      "The rate of return for Year 18 = 2.03%\n",
      "The rate of return for Year 19 = 13.41%\n",
      "The rate of return for Year 20 = -0.73%\n",
      "The rate of return for Year 21 = -6.24%\n",
      "The rate of return for Year 22 = 14.76%\n",
      "The rate of return for Year 23 = 26.33%\n",
      "The rate of return for Year 24 = -38.49%\n",
      "The rate of return for Year 25 = 20.26%\n",
      "The rate of return for Year 26 = -29.72%\n",
      "The rate of return for Year 27 = 9.54%\n",
      "The rate of return for Year 28 = 14.76%\n",
      "The rate of return for Year 29 = -29.72%\n",
      "The rate of return for Year 30 = 26.31%\n"
     ]
    }
   ],
   "source": [
    "# Create uniform random number between min and max value\n",
    "def get_rand_number(min_value, max_value):\n",
    "    range = max_value - min_value\n",
    "    choice = random.uniform(0,1)\n",
    "    return int(min_value + round(range*choice, 0))\n",
    "\n",
    "ror = []\n",
    "for i in np.arange(0, Y):\n",
    "    temp = df50.iloc[get_rand_number(0, 49)]['ror']\n",
    "    ror.append(temp)\n",
    "    print(\"The rate of return for Year \" + str(i+1) + \" = \" + str(temp) + \"%\")"
   ]
  },
  {
   "cell_type": "markdown",
   "metadata": {},
   "source": [
    "The next step is to calculate our investment total for these rates of return."
   ]
  },
  {
   "cell_type": "code",
   "execution_count": 161,
   "metadata": {},
   "outputs": [
    {
     "name": "stdout",
     "output_type": "stream",
     "text": [
      "Our investments after 30 years have grown to $318,513.80, consisting of $180,000.00 in contributions and $138,513.80 in growth!\n"
     ]
    }
   ],
   "source": [
    "def InvestmentSimulator(Contribution, Rates):\n",
    "    Balance = 0\n",
    "    for i in Rates:\n",
    "        Balance = round(Balance * (1 + i/100) + Contribution, 2)\n",
    "    return Balance\n",
    "    \n",
    "InvestmentTotal = InvestmentSimulator(X, ror)\n",
    "print(\"Our investments after \" + str(Y) + \" years have grown to $\" + str(\"{:,.2f}\".format(InvestmentTotal)) + \", consisting of $\" + str(\"{:,.2f}\".format(X * Y)) + \" in contributions and $\" + \n",
    "      str(\"{:,.2f}\".format(InvestmentTotal - X * Y)) + \" in growth!\")"
   ]
  },
  {
   "cell_type": "markdown",
   "metadata": {},
   "source": [
    "While we have one estimate of our potential investments, itwould be more meaningful to run numerous simulations to get a better idea of the variability. We'll modify our previous code to easily run S number of scenarios."
   ]
  },
  {
   "cell_type": "code",
   "execution_count": 240,
   "metadata": {},
   "outputs": [
    {
     "data": {
      "text/plain": [
       "0     467519.11\n",
       "1     763951.86\n",
       "2    1533146.57\n",
       "3     133668.99\n",
       "4    1224208.63\n",
       "dtype: float64"
      ]
     },
     "execution_count": 240,
     "metadata": {},
     "output_type": "execute_result"
    }
   ],
   "source": [
    "def RunScenarios(Scenarios, Contribution, Years):\n",
    "    FinalBalances = []\n",
    "    for i in np.arange(0, Scenarios):\n",
    "        ror = [] \n",
    "        for j in np.arange(0, Years):\n",
    "            temp = df50.iloc[get_rand_number(0, 49)]['ror']\n",
    "            ror.append(temp)\n",
    "        InvestmentTotal = InvestmentSimulator(Contribution, ror)\n",
    "        FinalBalances.append(InvestmentTotal)\n",
    "    return(pd.Series(FinalBalances))\n",
    "            \n",
    "# Run 10,000 scenarios where we invest $6,000 per year for 30 years    \n",
    "FinalBalances = RunScenarios(10000, 6000, 30)    \n",
    "FinalBalances.head()"
   ]
  },
  {
   "cell_type": "markdown",
   "metadata": {},
   "source": [
    "Now that we have results across many scenarios, let's look at some summary statistics. "
   ]
  },
  {
   "cell_type": "code",
   "execution_count": 273,
   "metadata": {},
   "outputs": [
    {
     "name": "stdout",
     "output_type": "stream",
     "text": [
      "The minimum investment account balance was:          $73,481.21\n",
      "The 5th percentile investment account balance was:   $232,602.54\n",
      "The 25th percentile investment account balance was:  $442,418.84\n",
      "The median investment account balance was:           $688,562.56\n",
      "The 75th percentile investment account balance was:  $1,076,611.44\n",
      "The 95th percentile investment account balance was:  $1,950,454.86\n",
      "The maximum investment account balance was:          $5,535,653.08\n",
      "The standard deviation was:                          $566,774.03\n",
      "The 1.5 IQR was:                                     $951,288.89\n",
      "\n",
      "Reminder: Our contributions over 30 years was:       $180,000.00\n",
      "98.07% of scenarios yielded a final balance greater than the contributions\n"
     ]
    }
   ],
   "source": [
    "print(\"The minimum investment account balance was:          $\" + str(\"{:,.2f}\".format(FinalBalances.min())))\n",
    "print(\"The 5th percentile investment account balance was:   $\" + str(\"{:,.2f}\".format(FinalBalances.quantile(0.05))))\n",
    "print(\"The 25th percentile investment account balance was:  $\" + str(\"{:,.2f}\".format(FinalBalances.quantile(0.25))))\n",
    "print(\"The median investment account balance was:           $\" + str(\"{:,.2f}\".format(FinalBalances.median())))\n",
    "print(\"The 75th percentile investment account balance was:  $\" + str(\"{:,.2f}\".format(FinalBalances.quantile(0.75))))\n",
    "print(\"The 95th percentile investment account balance was:  $\" + str(\"{:,.2f}\".format(FinalBalances.quantile(0.95))))\n",
    "print(\"The maximum investment account balance was:          $\" + str(\"{:,.2f}\".format(FinalBalances.max())))\n",
    "print(\"The standard deviation was:                          $\" + str(\"{:,.2f}\".format(FinalBalances.std())))\n",
    "print(\"The 1.5 IQR was:                                     $\" + str(\"{:,.2f}\".format((FinalBalances.quantile(0.75) - FinalBalances.quantile(0.25)) * 1.5)))\n",
    "print(\"\")\n",
    "print(\"Reminder: Our contributions over \" + str(Y) + \" years was:       $\" + str(\"{:,.2f}\".format(X * Y)))\n",
    "print(str(100 - FinalBalances[FinalBalances < X * Y].count() / FinalBalances.count() * 100) + \"% of scenarios yielded a final balance greater than the contributions\")"
   ]
  },
  {
   "cell_type": "code",
   "execution_count": 320,
   "metadata": {},
   "outputs": [
    {
     "data": {
      "image/png": "[encoded data removed]",
      "text/plain": [
       "<Figure size 432x288 with 1 Axes>"
      ]
     },
     "metadata": {
      "needs_background": "light"
     },
     "output_type": "display_data"
    }
   ],
   "source": [
    "import numpy as np; np.random.seed(0)\n",
    "import matplotlib.pyplot as plt\n",
    "import pandas as pd\n",
    "\n",
    "FinalBalancesThousandhousand = FinalBalances / 100000\n",
    "\n",
    "bins = []\n",
    "\n",
    "for i in range(0, 26):\n",
    "    bins.append(i)\n",
    "        \n",
    "plt.hist(FinalBalancesOneHundredthousand, bins=bins, edgecolor=\"k\")\n",
    "plt.xticks(bins)\n",
    "plt.xlabel('Investment Balance ($100K)', fontsize=15)\n",
    "plt.ylabel(\"Scenario Count\")\n",
    "plt.title(\"Histogram - Count of Scenarios by Investment Balance\")\n",
    "plt.show()"
   ]
  },
  {
   "cell_type": "markdown",
   "metadata": {},
   "source": [
    "Our median estimate yielded over +\\\\$500K (+282%) growth across our investing horizon! Even when looking at worst case scenarios, we still experienced growth in over 98% of the simulated scenarios. On the flip side, over 25% of scenarios yielded a final balance over \\\\$1M (+\\\\$820K growth). Pretty darn good for only \\\\$180K in contributions!\n",
    "&nbsp;\n",
    "\n",
    "Although not mentioned to this point, there are some major assumptions made throughout this analyis. The biggest two being assumptions that yearly rates of return are independent from one another and that future rates will mirror historical returns. Investors have quarreled over these assumptions for years, and it doesn't seem like the discussion is going away anytime soon. That being said, the numbers in this analysis seem to indicate positive results even if you dialed back your expectations from the estimated median to a lower percentile. It's always a great time to invest for your future!\n",
    "&nbsp;\n",
    "\n",
    "That's all for today - keep your eyes peeled for some brand new topics beginning in July!\n",
    "&nbsp;\n",
    "\n",
    "Until next time,\n",
    "&nbsp;\n",
    "\n",
    "Ben"
   ]
  }
 ],
 "metadata": {
  "celltoolbar": "Slideshow",
  "kernelspec": {
   "display_name": "Python 3",
   "language": "python",
   "name": "python3"
  },
  "language_info": {
   "codemirror_mode": {
    "name": "ipython",
    "version": 3
   },
   "file_extension": ".py",
   "mimetype": "text/x-python",
   "name": "python",
   "nbconvert_exporter": "python",
   "pygments_lexer": "ipython3",
   "version": "3.6.3"
  }
 },
 "nbformat": 4,
 "nbformat_minor": 4
}
