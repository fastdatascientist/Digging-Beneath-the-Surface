{
 "cells": [
  {
   "cell_type": "markdown",
   "metadata": {
    "slideshow": {
     "slide_type": "slide"
    }
   },
   "source": [
    "# Digging Beneath the Surface"
   ]
  },
  {
   "cell_type": "markdown",
   "metadata": {},
   "source": [
    "*Benjamin Johnson*\n",
    "\n",
    "\n",
    "*June 20, 2022*"
   ]
  },
  {
   "cell_type": "markdown",
   "metadata": {},
   "source": [
    "[Home](https://fastdatascientist.github.io/Digging-Beneath-the-Surface/)\n",
    "\n",
    "[About Me](https://fastdatascientist.github.io/Digging-Beneath-the-Surface/author.html)\n",
    "\n",
    "[Previous Posts](https://fastdatascientist.github.io/Digging-Beneath-the-Surface/posts.html)"
   ]
  },
  {
   "cell_type": "markdown",
   "metadata": {},
   "source": [
    "## US National Park Optimal Route"
   ]
  },
  {
   "cell_type": "markdown",
   "metadata": {
    "slideshow": {
     "slide_type": "fragment"
    }
   },
   "source": [
    "It's summertime, which means family vacations! The in-laws are coming to visit for 4th of July, so I thought I'd work on a problem for them. My mother-in-law has a goal of visiting every US National Park. That got me thinking - how many parks are there, and what would be the optimal path if we wanted to stop by each one on a single trip? Gas isn't cheap these days ($5.21 / gal at Kroger today), so let's find an optimal path! "
   ]
  },
  {
   "cell_type": "markdown",
   "metadata": {},
   "source": [
    "### Import Statements and file read-in"
   ]
  },
  {
   "cell_type": "code",
   "execution_count": 1,
   "metadata": {},
   "outputs": [
    {
     "name": "stdout",
     "output_type": "stream",
     "text": [
      "There are 63 US National Parks\n"
     ]
    }
   ],
   "source": [
    "import pandas as pd\n",
    "import numpy as np\n",
    "import matplotlib.pyplot as plt\n",
    "\n",
    "df = pd.read_csv(r\"C:\\Users\\Benjamin\\Digging Beneath the Surface\\data\\US National Parks.csv\", encoding=\"utf-8\")\n",
    "print(\"There are \" + str(df.shape[0]) + \" US National Parks\")"
   ]
  },
  {
   "cell_type": "code",
   "execution_count": 36,
   "metadata": {},
   "outputs": [
    {
     "data": {
      "text/html": [
       "<div>\n",
       "<style scoped>\n",
       "    .dataframe tbody tr th:only-of-type {\n",
       "        vertical-align: middle;\n",
       "    }\n",
       "\n",
       "    .dataframe tbody tr th {\n",
       "        vertical-align: top;\n",
       "    }\n",
       "\n",
       "    .dataframe thead th {\n",
       "        text-align: right;\n",
       "    }\n",
       "</style>\n",
       "<table border=\"1\" class=\"dataframe\">\n",
       "  <thead>\n",
       "    <tr style=\"text-align: right;\">\n",
       "      <th></th>\n",
       "      <th>Name</th>\n",
       "      <th>Latitude</th>\n",
       "      <th>Longitude</th>\n",
       "      <th>Area</th>\n",
       "      <th>Recreation visitors</th>\n",
       "      <th>Description</th>\n",
       "    </tr>\n",
       "  </thead>\n",
       "  <tbody>\n",
       "    <tr>\n",
       "      <th>0</th>\n",
       "      <td>Acadia</td>\n",
       "      <td>44.35</td>\n",
       "      <td>-68.21</td>\n",
       "      <td>49,071.40 acres (198.6 km2)</td>\n",
       "      <td>4,069,098</td>\n",
       "      <td>Covering most of Mount Desert Island and other...</td>\n",
       "    </tr>\n",
       "    <tr>\n",
       "      <th>1</th>\n",
       "      <td>American Samoa</td>\n",
       "      <td>-14.25</td>\n",
       "      <td>-170.68</td>\n",
       "      <td>8,256.67 acres (33.4 km2)</td>\n",
       "      <td>8,495</td>\n",
       "      <td>The southernmost national park is on three Sam...</td>\n",
       "    </tr>\n",
       "    <tr>\n",
       "      <th>2</th>\n",
       "      <td>Arches</td>\n",
       "      <td>38.68</td>\n",
       "      <td>-109.57</td>\n",
       "      <td>76,678.98 acres (310.3 km2)</td>\n",
       "      <td>1,806,865</td>\n",
       "      <td>This site features more than 2,000 natural san...</td>\n",
       "    </tr>\n",
       "    <tr>\n",
       "      <th>3</th>\n",
       "      <td>Badlands</td>\n",
       "      <td>43.75</td>\n",
       "      <td>-102.50</td>\n",
       "      <td>242,755.94 acres (982.4 km2)</td>\n",
       "      <td>1,224,226</td>\n",
       "      <td>The Badlands are a collection of buttes, pinna...</td>\n",
       "    </tr>\n",
       "    <tr>\n",
       "      <th>4</th>\n",
       "      <td>Big Bend</td>\n",
       "      <td>29.25</td>\n",
       "      <td>-103.25</td>\n",
       "      <td>801,163.21 acres (3,242.2 km2)</td>\n",
       "      <td>581,220</td>\n",
       "      <td>Named for the prominent bend in the Rio Grande...</td>\n",
       "    </tr>\n",
       "  </tbody>\n",
       "</table>\n",
       "</div>"
      ],
      "text/plain": [
       "             Name  Latitude  Longitude                            Area  \\\n",
       "0          Acadia     44.35     -68.21     49,071.40 acres (198.6 km2)   \n",
       "1  American Samoa    -14.25    -170.68       8,256.67 acres (33.4 km2)   \n",
       "2          Arches     38.68    -109.57     76,678.98 acres (310.3 km2)   \n",
       "3        Badlands     43.75    -102.50    242,755.94 acres (982.4 km2)   \n",
       "4       Big Bend      29.25    -103.25  801,163.21 acres (3,242.2 km2)   \n",
       "\n",
       "   Recreation visitors                                         Description  \n",
       "0            4,069,098   Covering most of Mount Desert Island and other...  \n",
       "1                8,495   The southernmost national park is on three Sam...  \n",
       "2            1,806,865   This site features more than 2,000 natural san...  \n",
       "3            1,224,226   The Badlands are a collection of buttes, pinna...  \n",
       "4              581,220   Named for the prominent bend in the Rio Grande...  "
      ]
     },
     "execution_count": 36,
     "metadata": {},
     "output_type": "execute_result"
    }
   ],
   "source": [
    "df.head()"
   ]
  },
  {
   "cell_type": "code",
   "execution_count": 37,
   "metadata": {
    "collapsed": true
   },
   "outputs": [],
   "source": [
    "# Create a list of US National Parks\n",
    "parks = []\n",
    "for index, row in df.iterrows():\n",
    "    parks.append(row['Name'].replace(u'\\xa0', u''))"
   ]
  },
  {
   "cell_type": "markdown",
   "metadata": {},
   "source": [
    "Our input file contains 63 rows (one per park), consistenting of latitude and longitude."
   ]
  },
  {
   "cell_type": "markdown",
   "metadata": {},
   "source": [
    "This route problem actually has a common name - the Traveling Salesperson problem. Given a list of locations and distances between each pair, our goal is to find the shortest possible route that visits each site exactly once and then returns to the origin. Python actually has a special library for this type of problem, so we'll test out how it works."
   ]
  },
  {
   "cell_type": "markdown",
   "metadata": {},
   "source": [
    "### Import TSP library and test with sample data "
   ]
  },
  {
   "cell_type": "code",
   "execution_count": 5,
   "metadata": {
    "collapsed": true
   },
   "outputs": [],
   "source": [
    "from python_tsp.heuristics import solve_tsp_simulated_annealing"
   ]
  },
  {
   "cell_type": "markdown",
   "metadata": {},
   "source": [
    "I created 4 sample locations and randomly generated distances between them."
   ]
  },
  {
   "cell_type": "code",
   "execution_count": 6,
   "metadata": {
    "collapsed": true
   },
   "outputs": [],
   "source": [
    "distances = np.array([\n",
    "    [0, 5, 3,  6], # Location 0\n",
    "    [6, 0, 1,  2], # Location 1\n",
    "    [1, 2, 0,  4], # Location 2\n",
    "    [7, 2, 10, 0]  # Location 3\n",
    "])"
   ]
  },
  {
   "cell_type": "markdown",
   "metadata": {},
   "source": [
    "Let's use a function to determine the optimal path and total distance."
   ]
  },
  {
   "cell_type": "code",
   "execution_count": 7,
   "metadata": {
    "collapsed": true
   },
   "outputs": [],
   "source": [
    "permutation, distance = solve_tsp_simulated_annealing(distances)"
   ]
  },
  {
   "cell_type": "code",
   "execution_count": 8,
   "metadata": {},
   "outputs": [
    {
     "name": "stdout",
     "output_type": "stream",
     "text": [
      "[0, 3, 1, 2]\n"
     ]
    }
   ],
   "source": [
    "print(permutation)"
   ]
  },
  {
   "cell_type": "code",
   "execution_count": 9,
   "metadata": {},
   "outputs": [
    {
     "name": "stdout",
     "output_type": "stream",
     "text": [
      "10\n"
     ]
    }
   ],
   "source": [
    "print(distance)"
   ]
  },
  {
   "cell_type": "markdown",
   "metadata": {},
   "source": [
    "The optimal path for our sample data is Location 0 -> 3 -> 1 -> 2 -> 0, resulting in a total trip of 10 miles."
   ]
  },
  {
   "cell_type": "markdown",
   "metadata": {},
   "source": [
    "Now that we've tested this out, let's apply this logic to our park problem. But first, we need to calculate the distances between parks."
   ]
  },
  {
   "cell_type": "code",
   "execution_count": 15,
   "metadata": {},
   "outputs": [
    {
     "name": "stdout",
     "output_type": "stream",
     "text": [
      "[[   0.         7515.11839837 2151.84963114 ... 2061.2473651\n",
      "  2664.29848316 2363.88355911]\n",
      " [7515.11839837    0.         5373.90862905 ... 5540.76510007\n",
      "  4891.58628683 5162.34662542]\n",
      " [2151.84963114 5373.90862905    0.         ...  411.83432884\n",
      "   541.68764883  212.11400352]\n",
      " ...\n",
      " [2061.2473651  5540.76510007  411.83432884 ...    0.\n",
      "   660.74153156  521.5653882 ]\n",
      " [2664.29848316 4891.58628683  541.68764883 ...  660.74153156\n",
      "     0.          355.07283509]\n",
      " [2363.88355911 5162.34662542  212.11400352 ...  521.5653882\n",
      "   355.07283509    0.        ]]\n"
     ]
    }
   ],
   "source": [
    "import numpy as np\n",
    "from python_tsp.distances import great_circle_distance_matrix\n",
    "\n",
    "df2 = df[['Latitude','Longitude']]\n",
    "convert_m_to_mi = 1609.34\n",
    "\n",
    "distances = great_circle_distance_matrix(df2) / convert_m_to_mi\n",
    "print(distances)"
   ]
  },
  {
   "cell_type": "markdown",
   "metadata": {},
   "source": [
    "Our TSP package has an extremely useful function to calculate distances between two coordinates using the [Haversine Formula](https://www.geeksforgeeks.org/haversine-formula-to-find-distance-between-two-points-on-a-sphere/). We're making a couple assumptions with this method, however:\n",
    "\n",
    "- The Haversine Formula finds the distance between two points on a sphere. The Earth is not a perfect sphere, so these numbers are approximate.\n",
    "- We're also not accounting for the actual travel distance by plane, train or automobile. I was too lazy to look up the actual distances in Google Maps (1,953 unique searches). Maybe one day I'll revisit this problem by pulling this data systematically through an application programming interface (API)."
   ]
  },
  {
   "cell_type": "markdown",
   "metadata": {},
   "source": [
    "Next, let's feed our distances into our TSP solver."
   ]
  },
  {
   "cell_type": "code",
   "execution_count": 38,
   "metadata": {
    "collapsed": true
   },
   "outputs": [],
   "source": [
    "permutation, distance = solve_tsp_simulated_annealing(distances)"
   ]
  },
  {
   "cell_type": "code",
   "execution_count": 39,
   "metadata": {
    "collapsed": true
   },
   "outputs": [],
   "source": [
    "### Find the permutation names rather than just the row index\n",
    "permutation2 = []\n",
    "for i in permutation:\n",
    "    permutation2.append(df.iloc[i][0].replace(u'\\xa0', u''))"
   ]
  },
  {
   "cell_type": "markdown",
   "metadata": {},
   "source": [
    "### Show optimal path"
   ]
  },
  {
   "cell_type": "code",
   "execution_count": 70,
   "metadata": {},
   "outputs": [
    {
     "name": "stdout",
     "output_type": "stream",
     "text": [
      "The optimal path is:\n",
      "Park number 0:     Acadia\n",
      "Park number 1:     Shenandoah\n",
      "Park number 2:     New River Gorge\n",
      "Park number 3:     Cuyahoga Valley\n",
      "Park number 4:     Isle Royale\n",
      "Park number 5:     Voyageurs\n",
      "Park number 6:     Theodore Roosevelt\n",
      "Park number 7:     Glacier\n",
      "Park number 8:     Yellowstone\n",
      "Park number 9:     Grand Teton\n",
      "Park number 10:     Wind Cave\n",
      "Park number 11:     Badlands\n",
      "Park number 12:     Rocky Mountain\n",
      "Park number 13:     Great Sand Dunes\n",
      "Park number 14:     Black Canyon of the Gunnison\n",
      "Park number 15:     Mesa Verde\n",
      "Park number 16:     Arches\n",
      "Park number 17:     Canyonlands\n",
      "Park number 18:     Capitol Reef\n",
      "Park number 19:     Bryce Canyon\n",
      "Park number 20:     Zion\n",
      "Park number 21:     Great Basin\n",
      "Park number 22:     Kings Canyon\n",
      "Park number 23:     Sequoia\n",
      "Park number 24:     Pinnacles\n",
      "Park number 25:     Yosemite\n",
      "Park number 26:     Lassen Volcanic\n",
      "Park number 27:     Redwood\n",
      "Park number 28:     Crater Lake\n",
      "Park number 29:     Mount Rainier\n",
      "Park number 30:     Olympic\n",
      "Park number 31:     North Cascades\n",
      "Park number 32:     Glacier Bay\n",
      "Park number 33:     Wrangell–St.Elias\n",
      "Park number 34:     Kenai Fjords\n",
      "Park number 35:     Denali\n",
      "Park number 36:     Gates of the Arctic\n",
      "Park number 37:     Kobuk Valley\n",
      "Park number 38:     Lake Clark\n",
      "Park number 39:     Katmai\n",
      "Park number 40:     Haleakal\n",
      "Park number 41:     Hawaii Volcanoes\n",
      "Park number 42:     American Samoa\n",
      "Park number 43:     Channel Islands\n",
      "Park number 44:     Joshua Tree\n",
      "Park number 45:     Death Valley\n",
      "Park number 46:     Grand Canyon\n",
      "Park number 47:     Petrified Forest\n",
      "Park number 48:     Saguaro\n",
      "Park number 49:     White Sands\n",
      "Park number 50:     Guadalupe Mountains\n",
      "Park number 51:     Carlsbad Caverns\n",
      "Park number 52:     Big Bend\n",
      "Park number 53:     Hot Springs\n",
      "Park number 54:     Gateway Arch\n",
      "Park number 55:     Indiana Dunes\n",
      "Park number 56:     Mammoth Cave\n",
      "Park number 57:     Great Smoky Mountains\n",
      "Park number 58:     Congaree\n",
      "Park number 59:     Dry Tortugas\n",
      "Park number 60:     Everglades\n",
      "Park number 61:     Biscayne\n",
      "Park number 62:     Virgin Islands\n"
     ]
    }
   ],
   "source": [
    "print(\"The optimal path is:\")\n",
    "for index, value in enumerate(permutation2):\n",
    "    print(\"Park number \" + str(index) + \":     \" + value)"
   ]
  },
  {
   "cell_type": "code",
   "execution_count": 65,
   "metadata": {},
   "outputs": [
    {
     "name": "stdout",
     "output_type": "stream",
     "text": [
      "Total distance covered for the optimal path was 26,555 miles.\n"
     ]
    }
   ],
   "source": [
    "print(\"Total distance covered for the optimal path was \" + str(\"{:,.0f}\".format(round(distance))) + \" miles.\")"
   ]
  },
  {
   "cell_type": "markdown",
   "metadata": {},
   "source": [
    "We glossed over this earlier, but there are a few notable parks that are much further away than the others. Firstly, Alaska has a whopping eight parks alone; considering that the minimum distance from an Alaskan to non-Alaska park is 1,718 miles (between Gates of the Arctic and Olympic), it probably isn't feasible to include the Alaskan parks on our road trip. Even further away are the two Hawaiian parks which are over 2,300 miles away from the nearest parks in California. And lastly, the national park in American Samoa is 2,551 additional miles from the Hawaiaan parks. Since driving to these parks is infeasible (unless a [Lotus Esprit](https://www.youtube.com/watch?v=D1MDwVRgoQc) is available to rent), let's drop these parks from our data and re-run the analysis."
   ]
  },
  {
   "cell_type": "code",
   "execution_count": 44,
   "metadata": {},
   "outputs": [
    {
     "data": {
      "image/png": "[encoded data removed]",
      "text/plain": [
       "<Figure size 432x288 with 1 Axes>"
      ]
     },
     "metadata": {
      "needs_background": "light"
     },
     "output_type": "display_data"
    }
   ],
   "source": [
    "### Create a scatterplot to visualize park locations\n",
    "plt.scatter(x=df['Longitude'], y=df['Latitude'])\n",
    "plt.show()"
   ]
  },
  {
   "cell_type": "markdown",
   "metadata": {},
   "source": [
    "Alaska, Hawaii and American Samoa parks are visible on the far left (11 total locations), and Virgin Islands park is in the bottom right (we'll drop this location too)"
   ]
  },
  {
   "cell_type": "markdown",
   "metadata": {},
   "source": [
    "### Drop Parks Outside Continental US and Re-run TSP"
   ]
  },
  {
   "cell_type": "code",
   "execution_count": 91,
   "metadata": {
    "collapsed": true
   },
   "outputs": [],
   "source": [
    "df2 = df.query('Longitude > -130 and Latitude > 20')"
   ]
  },
  {
   "cell_type": "code",
   "execution_count": 92,
   "metadata": {},
   "outputs": [
    {
     "data": {
      "image/png": "[encoded data removed]",
      "text/plain": [
       "<Figure size 432x288 with 1 Axes>"
      ]
     },
     "metadata": {
      "needs_background": "light"
     },
     "output_type": "display_data"
    }
   ],
   "source": [
    "### Create new scatterplot to ensure records were removed\n",
    "plt.scatter(x=df2['Longitude'], y=df2['Latitude'])\n",
    "plt.show()"
   ]
  },
  {
   "cell_type": "code",
   "execution_count": 93,
   "metadata": {
    "collapsed": true
   },
   "outputs": [],
   "source": [
    "distances = great_circle_distance_matrix(df2[['Latitude','Longitude']]) / convert_m_to_mi\n",
    "permutation, distance = solve_tsp_simulated_annealing(distances)\n",
    "\n",
    "permutation2 = []\n",
    "for i in permutation:\n",
    "    permutation2.append(df2.iloc[i][0].replace(u'\\xa0', u''))"
   ]
  },
  {
   "cell_type": "code",
   "execution_count": 94,
   "metadata": {},
   "outputs": [
    {
     "name": "stdout",
     "output_type": "stream",
     "text": [
      "The optimal path is:\n",
      "Park number 0:     Acadia\n",
      "Park number 1:     Cuyahoga Valley\n",
      "Park number 2:     Mammoth Cave\n",
      "Park number 3:     Gateway Arch\n",
      "Park number 4:     Indiana Dunes\n",
      "Park number 5:     Isle Royale\n",
      "Park number 6:     Voyageurs\n",
      "Park number 7:     Theodore Roosevelt\n",
      "Park number 8:     Badlands\n",
      "Park number 9:     Wind Cave\n",
      "Park number 10:     Rocky Mountain\n",
      "Park number 11:     Grand Teton\n",
      "Park number 12:     Yellowstone\n",
      "Park number 13:     Glacier\n",
      "Park number 14:     North Cascades\n",
      "Park number 15:     Olympic\n",
      "Park number 16:     Mount Rainier\n",
      "Park number 17:     Crater Lake\n",
      "Park number 18:     Redwood\n",
      "Park number 19:     Lassen Volcanic\n",
      "Park number 20:     Yosemite\n",
      "Park number 21:     Kings Canyon\n",
      "Park number 22:     Sequoia\n",
      "Park number 23:     Pinnacles\n",
      "Park number 24:     Channel Islands\n",
      "Park number 25:     Joshua Tree\n",
      "Park number 26:     Death Valley\n",
      "Park number 27:     Great Basin\n",
      "Park number 28:     Zion\n",
      "Park number 29:     Grand Canyon\n",
      "Park number 30:     Bryce Canyon\n",
      "Park number 31:     Capitol Reef\n",
      "Park number 32:     Canyonlands\n",
      "Park number 33:     Arches\n",
      "Park number 34:     Black Canyon of the Gunnison\n",
      "Park number 35:     Great Sand Dunes\n",
      "Park number 36:     Mesa Verde\n",
      "Park number 37:     Petrified Forest\n",
      "Park number 38:     Saguaro\n",
      "Park number 39:     White Sands\n",
      "Park number 40:     Guadalupe Mountains\n",
      "Park number 41:     Carlsbad Caverns\n",
      "Park number 42:     Big Bend\n",
      "Park number 43:     Hot Springs\n",
      "Park number 44:     Dry Tortugas\n",
      "Park number 45:     Everglades\n",
      "Park number 46:     Biscayne\n",
      "Park number 47:     Congaree\n",
      "Park number 48:     Great Smoky Mountains\n",
      "Park number 49:     New River Gorge\n",
      "Park number 50:     Shenandoah\n"
     ]
    }
   ],
   "source": [
    "print(\"The optimal path is:\")\n",
    "for index, value in enumerate(permutation2):\n",
    "    print(\"Park number \" + str(index) + \":     \" + value)"
   ]
  },
  {
   "cell_type": "code",
   "execution_count": 95,
   "metadata": {},
   "outputs": [
    {
     "name": "stdout",
     "output_type": "stream",
     "text": [
      "Total distance covered for the optimal path was 11,881 miles.\n"
     ]
    }
   ],
   "source": [
    "print(\"Total distance covered for the optimal path was \" + str(\"{:,.0f}\".format(round(distance))) + \" miles.\")"
   ]
  },
  {
   "cell_type": "markdown",
   "metadata": {},
   "source": [
    "### Conclusion"
   ]
  },
  {
   "cell_type": "markdown",
   "metadata": {},
   "source": [
    "The total distance needed to visit the continental US parks came out to be only 11,881 miles compared to 26,555 miles when we were including the Alaskan + island locations. Since a key assumption of our route optimization is for the starting and ending points to be the same, we can choose to start our roadtrip from any of the 50 parks. In the case of my in-laws, they would likely begin with Wind Cave (Park #9 in our list) before moving onto Grand Teton, Yellowstone, and all the way thru the list ending with the Badlands.\n",
    "&nbsp;\n",
    "\n",
    "I hope you enjoyed this month's problem! Look for another problem to be solved in mid-to-late August. \n",
    "&nbsp;\n",
    "\n",
    "Until next time,\n",
    "\n",
    "&nbsp;\n",
    "Ben"
   ]
  }
 ],
 "metadata": {
  "celltoolbar": "Slideshow",
  "kernelspec": {
   "display_name": "Python 3",
   "language": "python",
   "name": "python3"
  },
  "language_info": {
   "codemirror_mode": {
    "name": "ipython",
    "version": 3
   },
   "file_extension": ".py",
   "mimetype": "text/x-python",
   "name": "python",
   "nbconvert_exporter": "python",
   "pygments_lexer": "ipython3",
   "version": "3.6.3"
  },
  "widgets": {
   "application/vnd.jupyter.widget-state+json": {
    "state": {},
    "version_major": 2,
    "version_minor": 0
   }
  }
 },
 "nbformat": 4,
 "nbformat_minor": 4
}
