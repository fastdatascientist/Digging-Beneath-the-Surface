{
 "cells": [
  {
   "cell_type": "markdown",
   "metadata": {
    "slideshow": {
     "slide_type": "slide"
    }
   },
   "source": [
    "# Digging Beneath the Surface"
   ]
  },
  {
   "cell_type": "markdown",
   "metadata": {},
   "source": [
    "*Benjamin Johnson*\n",
    "\n",
    "\n",
    "*July 15, 2022*"
   ]
  },
  {
   "cell_type": "markdown",
   "metadata": {},
   "source": [
    "[Home](https://fastdatascientist.github.io/Digging-Beneath-the-Surface/)\n",
    "\n",
    "[About Me](https://fastdatascientist.github.io/Digging-Beneath-the-Surface/author.html)\n",
    "\n",
    "[Previous Posts](https://fastdatascientist.github.io/Digging-Beneath-the-Surface/posts.html)"
   ]
  },
  {
   "cell_type": "markdown",
   "metadata": {},
   "source": [
    "## Electric Vehicle (EV) vs Gas Break-Even Analysis"
   ]
  },
  {
   "cell_type": "markdown",
   "metadata": {
    "slideshow": {
     "slide_type": "notes"
    }
   },
   "source": [
    "This year has been full of gloom-and-doom headlines regarding the economy. While I intend to dig into a history behind bear markets in a future article, today I'd like to focus on the spike in gas prices. The average price per gallon in Illinois had been hovering in the low-to-mid \\$3's in 2021 and into early 2022, but it's jumped all the way up past $5. At the same time, auto manufacturers have been releasing an increased number of electric vehicle (EV) options. Although the purchase prices are steep, the operating and maintenance cost differential between gas and EV vehicles are higher than ever. Today, let's run a break-even analysis to see the long term cost benefits of purchasing an EV."
   ]
  },
  {
   "cell_type": "markdown",
   "metadata": {},
   "source": [
    "### Purchase Prices"
   ]
  },
  {
   "cell_type": "code",
   "execution_count": 6,
   "metadata": {
    "collapsed": true
   },
   "outputs": [],
   "source": [
    "# Purchase Prices for EV and Gas\n",
    "ev_purch = 48490\n",
    "gas_purch = 33950"
   ]
  },
  {
   "cell_type": "markdown",
   "metadata": {},
   "source": [
    "Our first two variables are the purchase prices for our sample gas and electric powered vehicles. I selected a Mercedes-Benz A-Class and Tesla Model 3, both falling into the luxury sedan category."
   ]
  },
  {
   "cell_type": "markdown",
   "metadata": {},
   "source": [
    "### Estimated Usage"
   ]
  },
  {
   "cell_type": "code",
   "execution_count": 2,
   "metadata": {
    "collapsed": true
   },
   "outputs": [],
   "source": [
    "# Assume we drive this many miles per year\n",
    "yearly_mi = 15000  "
   ]
  },
  {
   "cell_type": "markdown",
   "metadata": {},
   "source": [
    "Next, we specify the number of miles we plan to drive each year. "
   ]
  },
  {
   "cell_type": "markdown",
   "metadata": {},
   "source": [
    "### Gas / Charging Cost Factors"
   ]
  },
  {
   "cell_type": "code",
   "execution_count": 3,
   "metadata": {
    "collapsed": true
   },
   "outputs": [],
   "source": [
    "# Gas / Electricity Cost Parameters\n",
    "gas_per_gal = 5.15     # Cost per gallon at the gas station\n",
    "gas_mpg     = 27       # 25 city / 35 highway miles per gallon\n",
    "charge_cpm  = 0.041    # Estimated cost per mile for charging the EV"
   ]
  },
  {
   "cell_type": "markdown",
   "metadata": {},
   "source": [
    "We'll use the quoted gas mileage for the Mercedes, current gas price, and approximate charging cost per mile for the Tesla to estimate our yearly energy costs to power the vehicles."
   ]
  },
  {
   "cell_type": "markdown",
   "metadata": {},
   "source": [
    "### Maintenance Factors"
   ]
  },
  {
   "cell_type": "code",
   "execution_count": 28,
   "metadata": {
    "collapsed": true
   },
   "outputs": [],
   "source": [
    "# Maintenance Factors\n",
    "gas_maint = 0.0955       # Cost per mile for maintenance on gas vehicle\n",
    "ev_maint  = 0.0777       # Cost per mile for maintenance on EV"
   ]
  },
  {
   "cell_type": "markdown",
   "metadata": {},
   "source": [
    "Our next factors are related to maintenance. From some online research, estimates indicated that EVs can expected ~20% less maintenance due to fewer moving parts."
   ]
  },
  {
   "cell_type": "markdown",
   "metadata": {},
   "source": [
    "### Depreciation Factors"
   ]
  },
  {
   "cell_type": "code",
   "execution_count": 5,
   "metadata": {
    "collapsed": true
   },
   "outputs": [],
   "source": [
    "# Depreciation Factors\n",
    "gas_depr = 0.13        # Yearly avg rate of depreciation for gas vehicle\n",
    "ev_depr  = 0.15        # Yearly avg rate of depreciation for EV"
   ]
  },
  {
   "cell_type": "markdown",
   "metadata": {},
   "source": [
    "We also need to account for depreciation if we were to sell the vehicles. While the last several years have actually seen used cars increase in value due to high demand & low supply, vehicles typically see significant depreciation over time. For simplicity, we're using average depreciation rates per year. The EV depreciation factor is set slightly higher due to initial government incentives and battery replacement over time."
   ]
  },
  {
   "cell_type": "markdown",
   "metadata": {},
   "source": [
    "### Rate of Return"
   ]
  },
  {
   "cell_type": "code",
   "execution_count": 91,
   "metadata": {
    "collapsed": true
   },
   "outputs": [],
   "source": [
    "# Rate of Return for difference in purchase price\n",
    "ror = 0.10             # Assume we invest the difference in purchase price with a return of ror% annualized"
   ]
  },
  {
   "cell_type": "markdown",
   "metadata": {},
   "source": [
    "Lastly, let's consider rate of return for the difference in purchase price of our EV vs gas vehicle. If invested, this will give us a return over time."
   ]
  },
  {
   "cell_type": "markdown",
   "metadata": {},
   "source": [
    "### Calculate Yearly Cash Flows from Years 0 - 15"
   ]
  },
  {
   "cell_type": "markdown",
   "metadata": {},
   "source": [
    "Now that we've set up our cost factors, let's calculate our yearly expenses for both vehicles."
   ]
  },
  {
   "cell_type": "code",
   "execution_count": 115,
   "metadata": {},
   "outputs": [
    {
     "name": "stdout",
     "output_type": "stream",
     "text": [
      "Gas vehicle costs $4,294 per year.\n",
      "EV  vehicle costs $1,780 per year.\n",
      "EV  savings are   $2,513 per year.\n",
      "\n",
      "[14540.         -2513.11111111 -2513.11111111 -2513.11111111\n",
      " -2513.11111111 -2513.11111111 -2513.11111111 -2513.11111111\n",
      " -2513.11111111 -2513.11111111 -2513.11111111 -2513.11111111\n",
      " -2513.11111111 -2513.11111111 -2513.11111111 -2513.11111111]\n"
     ]
    }
   ],
   "source": [
    "# Initialize numpy arrays for cash flows\n",
    "import numpy as np\n",
    "gas_arr = np.empty((0))\n",
    "ev_arr = np.empty((0))\n",
    "\n",
    "# Add purchase prices in year 0\n",
    "gas_arr = np.append(gas_arr, gas_purch)\n",
    "ev_arr = np.append(ev_arr, ev_purch)\n",
    "\n",
    "# Calculate yearly cash flows\n",
    "gas_cashflow = ((yearly_mi / gas_mpg) * gas_per_gal) + (gas_maint * yearly_mi) \n",
    "ev_cashflow = (yearly_mi * charge_cpm) + (ev_maint * yearly_mi) \n",
    "\n",
    "print(\"Gas vehicle costs $\" + str(\"{:,.0f}\".format(gas_cashflow)) + \" per year.\")\n",
    "print(\"EV  vehicle costs $\" + str(\"{:,.0f}\".format(ev_cashflow)) + \" per year.\")\n",
    "print(\"EV  savings are   $\" + str(\"{:,.0f}\".format(gas_cashflow - ev_cashflow)) + \" per year.\")\n",
    "print()\n",
    "\n",
    "# Append cash flows into lists for next 15 years\n",
    "for i in range(15):\n",
    "    gas_arr = np.append(gas_arr, gas_cashflow)\n",
    "    ev_arr = np.append(ev_arr, ev_cashflow)\n",
    "\n",
    "year_diff = ev_list - gas_list   \n",
    "print(year_diff)"
   ]
  },
  {
   "cell_type": "markdown",
   "metadata": {},
   "source": [
    "It looks like choosing an EV will save us money over time, as it costs $2,513.11 less to maintain and operate per year. How long until we recoup our initial investment however? Let's take a look at the cumulative savings by year."
   ]
  },
  {
   "cell_type": "markdown",
   "metadata": {},
   "source": [
    "### Calculate Cumulative Savings every year"
   ]
  },
  {
   "cell_type": "code",
   "execution_count": 112,
   "metadata": {},
   "outputs": [
    {
     "name": "stdout",
     "output_type": "stream",
     "text": [
      "Year 0 savings are $-14,540\n",
      "Year 1 savings are $-13,481\n",
      "Year 2 savings are $-12,316\n",
      "Year 3 savings are $-11,034\n",
      "Year 4 savings are $-9,625\n",
      "Year 5 savings are $-8,074\n",
      "Year 6 savings are $-6,368\n",
      "Year 7 savings are $-4,492\n",
      "Year 8 savings are $-2,428\n",
      "Year 9 savings are $-158\n",
      "Year 10 savings are $2,340\n",
      "Year 11 savings are $5,087\n",
      "Year 12 savings are $8,108\n",
      "Year 13 savings are $11,432\n",
      "Year 14 savings are $15,089\n",
      "Year 15 savings are $19,111\n"
     ]
    }
   ],
   "source": [
    "cum_diff = np.empty((0))\n",
    "index = 0\n",
    "\n",
    "for i in np.nditer(year_diff):\n",
    "    if index == 0: val = i\n",
    "    else: val = (val * (1+ror)) + i\n",
    "    print(\"Year \" + str(index) + \" savings are \" + str(\"${:,.0f}\".format(val * -1)))\n",
    "    index += 1\n",
    "    cum_diff = np.append(cum_diff, val)"
   ]
  },
  {
   "cell_type": "markdown",
   "metadata": {},
   "source": [
    "It takes just shy of 10 years for us to break even, meaning an EV might be a good investment if we were to drive it for at least that long. This does not consider what would happen if we were to sell the vehicle, so let's take a closer look at the difference with the sale price considered."
   ]
  },
  {
   "cell_type": "markdown",
   "metadata": {},
   "source": [
    "### Account for Sale Price after Depreciation"
   ]
  },
  {
   "cell_type": "code",
   "execution_count": 120,
   "metadata": {},
   "outputs": [
    {
     "name": "stdout",
     "output_type": "stream",
     "text": [
      "Sales Values of Gas Vehicle: \n",
      "[33950.         29536.5        25696.755      22356.17685\n",
      " 19449.8738595  16921.39025777 14721.60952426 12807.8002861\n",
      " 11142.78624891  9694.22403655  8433.9749118   7337.55817327\n",
      "  6383.67561074  5553.79778134  4831.80406977  4203.6695407 ]\n",
      "\n",
      "Sales Values of EV Vehicle: \n",
      "[48490.         41216.5        35034.025      29778.92125\n",
      " 25312.0830625  21515.27060312 18287.98001266 15544.78301076\n",
      " 13213.06555914 11231.10572527  9546.43986648  8114.47388651\n",
      "  6897.30280353  5862.707383    4983.30127555  4235.80608422]\n"
     ]
    }
   ],
   "source": [
    "# Initialize numpy arrays for vehicle sales price by year\n",
    "gas_sp = np.empty((0))\n",
    "ev_sp = np.empty((0))\n",
    "\n",
    "# Apply depreciation rate every year\n",
    "for i in range(16):\n",
    "    gas_new_price = gas_purch * (1-gas_depr) ** i\n",
    "    ev_new_price = ev_purch * (1-ev_depr) ** i\n",
    "    gas_sp = np.append(gas_sp, gas_new_price)\n",
    "    ev_sp = np.append(ev_sp, ev_new_price)\n",
    "    \n",
    "print(\"Sales Values of Gas Vehicle: \")    \n",
    "print(gas_sp)\n",
    "print()\n",
    "print(\"Sales Values of EV Vehicle: \")    \n",
    "print(ev_sp)"
   ]
  },
  {
   "cell_type": "markdown",
   "metadata": {},
   "source": [
    "Here we calculate the sales values for the vehicles by year."
   ]
  },
  {
   "cell_type": "code",
   "execution_count": 125,
   "metadata": {},
   "outputs": [
    {
     "name": "stdout",
     "output_type": "stream",
     "text": [
      "Year 0 revised savings are $-0\n",
      "Year 1 revised savings are $-1,801\n",
      "Year 2 revised savings are $-2,979\n",
      "Year 3 revised savings are $-3,612\n",
      "Year 4 revised savings are $-3,762\n",
      "Year 5 revised savings are $-3,480\n",
      "Year 6 revised savings are $-2,802\n",
      "Year 7 revised savings are $-1,755\n",
      "Year 8 revised savings are $-358\n",
      "Year 9 revised savings are $1,379\n",
      "Year 10 revised savings are $3,452\n",
      "Year 11 revised savings are $5,863\n",
      "Year 12 revised savings are $8,622\n",
      "Year 13 revised savings are $11,741\n",
      "Year 14 revised savings are $15,240\n",
      "Year 15 revised savings are $19,143\n"
     ]
    }
   ],
   "source": [
    "sp_diff = ev_sp - gas_sp\n",
    "cum_diff_revised = cum_diff - sp_diff\n",
    "\n",
    "index = 0\n",
    "for i in np.nditer(cum_diff_revised):\n",
    "    print(\"Year \" + str(index) + \" revised savings are \" + str(\"${:,.0f}\".format(i * -1)))\n",
    "    index += 1"
   ]
  },
  {
   "cell_type": "markdown",
   "metadata": {},
   "source": [
    "Now that we've considered the sale price, our break even point moves up slightly. It takes nearly 9 years for the EV savings to outweigh the higher initial cost."
   ]
  },
  {
   "cell_type": "markdown",
   "metadata": {},
   "source": [
    "### Conclusion"
   ]
  },
  {
   "cell_type": "markdown",
   "metadata": {},
   "source": [
    "If you've made it this far, thanks for sticking around to the end! This article has been full of assumptions and limited options, so I'm sure some of you might be kicking and screaming. For instance, are luxury sedans really are only options? What does our break even point look like if we were to compare a Nissan Leaf or Chevy Bolt EV compared to a Toyota Camry or Ford Fusion? And how accurate (and consistent) were our cost factors anyway?\n",
    "&nbsp;\n",
    "\n",
    "All those questions aside, this was still a fun problem to analyze. As the number of EV options increase in the near future, I'll certainly revisit this analysis with updated considerations. For now, let's cross our fingers for gas prices to drop back down!\n",
    "&nbsp;\n",
    "\n",
    "Thanks again for reading, and tune in for the next post in late August!\n",
    "&nbsp;\n",
    "\n",
    "Until next time,\n",
    "\n",
    "&nbsp;\n",
    "Ben"
   ]
  }
 ],
 "metadata": {
  "celltoolbar": "Slideshow",
  "kernelspec": {
   "display_name": "Python 3",
   "language": "python",
   "name": "python3"
  },
  "language_info": {
   "codemirror_mode": {
    "name": "ipython",
    "version": 3
   },
   "file_extension": ".py",
   "mimetype": "text/x-python",
   "name": "python",
   "nbconvert_exporter": "python",
   "pygments_lexer": "ipython3",
   "version": "3.6.3"
  },
  "widgets": {
   "application/vnd.jupyter.widget-state+json": {
    "state": {},
    "version_major": 2,
    "version_minor": 0
   }
  }
 },
 "nbformat": 4,
 "nbformat_minor": 4
}
