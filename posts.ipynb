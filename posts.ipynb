{
 "cells": [
  {
   "cell_type": "markdown",
   "metadata": {
    "slideshow": {
     "slide_type": "slide"
    }
   },
   "source": [
    "# Digging Beneath the Surface"
   ]
  },
  {
   "cell_type": "markdown",
   "metadata": {},
   "source": [
    "[Home](https://johnsbr1.github.io/)\n",
    "\n",
    "[About Me](https://johnsbr1.github.io/author.html)\n"
   ]
  },
  {
   "cell_type": "markdown",
   "metadata": {},
   "source": [
    "### February 2018\n",
    "[Major League Baseball Simulation](https://johnsbr1.github.io/posts/MLB+2017+simulation.html)\n",
    "\n",
    "### March 2018\n",
    "[Parameter Optimization for Bill Bergen Fantasy Baseball](https://johnsbr1.github.io/posts/Fantasy+Baseball+Parameter+Optimization.html)"
   ]
  }
 ],
 "metadata": {
  "celltoolbar": "Slideshow",
  "kernelspec": {
   "display_name": "Python 3",
   "language": "python",
   "name": "python3"
  },
  "language_info": {
   "codemirror_mode": {
    "name": "ipython",
    "version": 3
   },
   "file_extension": ".py",
   "mimetype": "text/x-python",
   "name": "python",
   "nbconvert_exporter": "python",
   "pygments_lexer": "ipython3",
   "version": "3.6.3"
  }
 },
 "nbformat": 4,
 "nbformat_minor": 1
}
